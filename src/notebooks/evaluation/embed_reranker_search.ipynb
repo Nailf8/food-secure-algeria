{
 "cells": [
  {
   "cell_type": "code",
   "execution_count": 20,
   "metadata": {},
   "outputs": [],
   "source": [
    "from llama_index.core import VectorStoreIndex, SimpleDirectoryReader, ServiceContext\n",
    "from llama_index.core.node_parser import SimpleNodeParser\n",
    "from llama_index.core.schema import Document\n",
    "\n",
    "# LLM\n",
    "from llama_index.llms.databricks import Databricks\n",
    "\n",
    "# Embeddings\n",
    "from langchain_huggingface import HuggingFaceEmbeddings\n",
    "from llama_index.embeddings.langchain import LangchainEmbedding\n",
    "\n",
    "# Retrievers\n",
    "from llama_index.core.retrievers import (\n",
    "    BaseRetriever,\n",
    "    VectorIndexRetriever,\n",
    ")\n",
    "\n",
    "# Rerankers\n",
    "from llama_index.core.indices.query.schema import QueryBundle, QueryType\n",
    "from llama_index.core.schema import NodeWithScore\n",
    "from llama_index.postprocessor.cohere_rerank import CohereRerank\n",
    "from llama_index.core.indices.postprocessor import SentenceTransformerRerank\n",
    "from llama_index.core.evaluation import EmbeddingQAFinetuneDataset\n",
    "\n",
    "# Evaluator\n",
    "from llama_index.core.evaluation import (\n",
    "    generate_question_context_pairs,\n",
    "    EmbeddingQAFinetuneDataset,\n",
    ")\n",
    "from llama_index.core.evaluation import RetrieverEvaluator\n",
    "\n",
    "from typing import List\n",
    "import pandas as pd\n",
    "\n",
    "import nest_asyncio\n",
    "\n",
    "nest_asyncio.apply()\n"
   ]
  },
  {
   "cell_type": "code",
   "execution_count": 65,
   "metadata": {},
   "outputs": [],
   "source": [
    "from datasets import load_dataset\n",
    "\n",
    "dataset = pd.read_parquet(\"../../data/parquet/train.parquet\")\n"
   ]
  },
  {
   "cell_type": "code",
   "execution_count": 67,
   "metadata": {},
   "outputs": [
    {
     "data": {
      "text/html": [
       "<div>\n",
       "<style scoped>\n",
       "    .dataframe tbody tr th:only-of-type {\n",
       "        vertical-align: middle;\n",
       "    }\n",
       "\n",
       "    .dataframe tbody tr th {\n",
       "        vertical-align: top;\n",
       "    }\n",
       "\n",
       "    .dataframe thead th {\n",
       "        text-align: right;\n",
       "    }\n",
       "</style>\n",
       "<table border=\"1\" class=\"dataframe\">\n",
       "  <thead>\n",
       "    <tr style=\"text-align: right;\">\n",
       "      <th></th>\n",
       "      <th>question</th>\n",
       "      <th>answer</th>\n",
       "      <th>support</th>\n",
       "    </tr>\n",
       "  </thead>\n",
       "  <tbody>\n",
       "    <tr>\n",
       "      <th>0</th>\n",
       "      <td>Quel rôle la question alimentaire et les polit...</td>\n",
       "      <td>La question alimentaire et les politiques de s...</td>\n",
       "      <td>La question alimentaire et son corollaire les ...</td>\n",
       "    </tr>\n",
       "    <tr>\n",
       "      <th>1</th>\n",
       "      <td>Quelle est la répartition des subventions tota...</td>\n",
       "      <td>Pour la période 2000-2019, les subventions tot...</td>\n",
       "      <td>Les subventions totales (Consommateurs + Produ...</td>\n",
       "    </tr>\n",
       "    <tr>\n",
       "      <th>2</th>\n",
       "      <td>Quels sont les principaux objectifs et méthode...</td>\n",
       "      <td>L’objectif est d’éclairer le débat sur les pol...</td>\n",
       "      <td>Si la nécessité d’assurer la sécurité alimenta...</td>\n",
       "    </tr>\n",
       "    <tr>\n",
       "      <th>3</th>\n",
       "      <td>Pourquoi les méthodes et outils de la prospect...</td>\n",
       "      <td>Les méthodes et outils de la prospective sont ...</td>\n",
       "      <td>Le recours aux méthodes et outils de la prospe...</td>\n",
       "    </tr>\n",
       "    <tr>\n",
       "      <th>4</th>\n",
       "      <td>Quel est le rôle de l’innovation dans le chang...</td>\n",
       "      <td>L’innovation est considérée comme le vecteur p...</td>\n",
       "      <td>L’innovation au sens large : politique, organi...</td>\n",
       "    </tr>\n",
       "    <tr>\n",
       "      <th>...</th>\n",
       "      <td>...</td>\n",
       "      <td>...</td>\n",
       "      <td>...</td>\n",
       "    </tr>\n",
       "    <tr>\n",
       "      <th>167</th>\n",
       "      <td>Quels sont les axes des orientations stratégiq...</td>\n",
       "      <td>Les orientations stratégiques de la politique ...</td>\n",
       "      <td>Orientations stratégiques de la politique agri...</td>\n",
       "    </tr>\n",
       "    <tr>\n",
       "      <th>168</th>\n",
       "      <td>Quels sont les axes des orientations stratégiq...</td>\n",
       "      <td>Les orientations stratégiques de la politique ...</td>\n",
       "      <td>Orientations stratégiques de la politique hali...</td>\n",
       "    </tr>\n",
       "    <tr>\n",
       "      <th>169</th>\n",
       "      <td>Quels sont les axes des orientations stratégiq...</td>\n",
       "      <td>Les orientations stratégiques du SNI à 2035 in...</td>\n",
       "      <td>Orientations stratégiques du SNI à 2035 présen...</td>\n",
       "    </tr>\n",
       "    <tr>\n",
       "      <th>170</th>\n",
       "      <td>Quelle est la dimension transversale proposée ...</td>\n",
       "      <td>La dimension transversale proposée est la mise...</td>\n",
       "      <td>Enfin, une dimension transversale celle d’une ...</td>\n",
       "    </tr>\n",
       "    <tr>\n",
       "      <th>171</th>\n",
       "      <td>Quelle est la base légale proposée pour mettre...</td>\n",
       "      <td>La base légale proposée est une loi-cadre nati...</td>\n",
       "      <td>Elle prend son ancrage dans une loi-cadre nati...</td>\n",
       "    </tr>\n",
       "  </tbody>\n",
       "</table>\n",
       "<p>172 rows × 3 columns</p>\n",
       "</div>"
      ],
      "text/plain": [
       "                                              question  \\\n",
       "0    Quel rôle la question alimentaire et les polit...   \n",
       "1    Quelle est la répartition des subventions tota...   \n",
       "2    Quels sont les principaux objectifs et méthode...   \n",
       "3    Pourquoi les méthodes et outils de la prospect...   \n",
       "4    Quel est le rôle de l’innovation dans le chang...   \n",
       "..                                                 ...   \n",
       "167  Quels sont les axes des orientations stratégiq...   \n",
       "168  Quels sont les axes des orientations stratégiq...   \n",
       "169  Quels sont les axes des orientations stratégiq...   \n",
       "170  Quelle est la dimension transversale proposée ...   \n",
       "171  Quelle est la base légale proposée pour mettre...   \n",
       "\n",
       "                                                answer  \\\n",
       "0    La question alimentaire et les politiques de s...   \n",
       "1    Pour la période 2000-2019, les subventions tot...   \n",
       "2    L’objectif est d’éclairer le débat sur les pol...   \n",
       "3    Les méthodes et outils de la prospective sont ...   \n",
       "4    L’innovation est considérée comme le vecteur p...   \n",
       "..                                                 ...   \n",
       "167  Les orientations stratégiques de la politique ...   \n",
       "168  Les orientations stratégiques de la politique ...   \n",
       "169  Les orientations stratégiques du SNI à 2035 in...   \n",
       "170  La dimension transversale proposée est la mise...   \n",
       "171  La base légale proposée est une loi-cadre nati...   \n",
       "\n",
       "                                               support  \n",
       "0    La question alimentaire et son corollaire les ...  \n",
       "1    Les subventions totales (Consommateurs + Produ...  \n",
       "2    Si la nécessité d’assurer la sécurité alimenta...  \n",
       "3    Le recours aux méthodes et outils de la prospe...  \n",
       "4    L’innovation au sens large : politique, organi...  \n",
       "..                                                 ...  \n",
       "167  Orientations stratégiques de la politique agri...  \n",
       "168  Orientations stratégiques de la politique hali...  \n",
       "169  Orientations stratégiques du SNI à 2035 présen...  \n",
       "170  Enfin, une dimension transversale celle d’une ...  \n",
       "171  Elle prend son ancrage dans une loi-cadre nati...  \n",
       "\n",
       "[172 rows x 3 columns]"
      ]
     },
     "execution_count": 67,
     "metadata": {},
     "output_type": "execute_result"
    }
   ],
   "source": [
    "dataset"
   ]
  },
  {
   "cell_type": "code",
   "execution_count": 68,
   "metadata": {},
   "outputs": [],
   "source": [
    "# Set the chunk size as 512 in node parser\n",
    "node_parser = SimpleNodeParser.from_defaults(chunk_size=512)\n",
    "\n",
    "corpus = []\n",
    "filtered_queries = []\n",
    "counter = 0\n",
    "for index, row in dataset.iterrows():    # Remove the empty documents\n",
    "    if len(row[\"support\"].strip()) == 0:\n",
    "        continue\n",
    "    current_document = Document(text=row[\"support\"])\n",
    "    # If the number of nodes for the document is 1, use them for evaluation\n",
    "    if len(node_parser.get_nodes_from_documents([current_document])) == 1:\n",
    "        corpus.append(row[\"support\"])\n",
    "        filtered_queries.append(row[\"question\"])\n",
    "        counter += 1\n",
    "    # Limit to 500 documents\n",
    "    if counter == 500:\n",
    "        break\n"
   ]
  },
  {
   "cell_type": "code",
   "execution_count": 70,
   "metadata": {},
   "outputs": [],
   "source": [
    "# Create the nodes from documents\n",
    "documents = [Document(text=c) for c in corpus]\n",
    "nodes = node_parser.get_nodes_from_documents(documents)\n",
    "# Manually assign node id for retrieval and evaluation\n",
    "for idx, node in enumerate(nodes):\n",
    "    node.id_ = f\"corpus_{idx}\"\n"
   ]
  },
  {
   "cell_type": "code",
   "execution_count": 71,
   "metadata": {},
   "outputs": [],
   "source": [
    "# Create inputs for EmbeddingQAFinetuneDataset\n",
    "queries_dict = {f\"query_{index}\":filtered_queries[index] for index in range(counter)}\n",
    "corpus_dict = {f\"corpus_{index}\":corpus[index] for index in range(counter)}\n",
    "relevant_docs_dict = {f\"query_{index}\":[f\"corpus_{index}\"] for index in range(counter)}\n",
    "\n",
    "# Create QA dataset\n",
    "qa_dataset = EmbeddingQAFinetuneDataset(\n",
    "    queries=queries_dict,\n",
    "    corpus=corpus_dict,\n",
    "    relevant_docs=relevant_docs_dict\n",
    ")\n"
   ]
  },
  {
   "cell_type": "code",
   "execution_count": 72,
   "metadata": {},
   "outputs": [
    {
     "data": {
      "text/plain": [
       "EmbeddingQAFinetuneDataset(queries={'query_0': 'Quel rôle la question alimentaire et les politiques de soutien jouent-elles dans le débat politique et sociétal de l’Algérie indépendante ?', 'query_1': 'Quelle est la répartition des subventions totales entre consommateurs et producteurs pour la période 2000-2019, et quelle part des subventions est allouée aux céréales et au lait ?', 'query_2': 'Quels sont les principaux objectifs et méthodes de l’analyse rétrospective comparative et de l’évaluation des politiques de soutien en matière de sécurité alimentaire en Algérie ?', 'query_3': 'Pourquoi les méthodes et outils de la prospective sont-ils nécessaires pour aborder la problématique de la sécurité alimentaire, et quel est l’horizon de la plupart des travaux en la matière ?', 'query_4': 'Quel est le rôle de l’innovation dans le changement et la résilience des systèmes productifs agricoles et halieutiques, et quel type d’innovation est privilégié pour la sécurité alimentaire durable ?', 'query_5': 'Que suggère l’étude pour améliorer la cohérence et l’efficacité des politiques publiques liées à la sécurité alimentaire en Algérie à l’horizon 2035 ?', 'query_6': 'Quel est le contenu du résumé exécutif de l’étude réalisée depuis 2017, et quelles collaborations et échanges ont eu lieu ?', 'query_7': 'Quelle est l’originalité de l’étude en termes d’évaluation d’impact et de prospective stratégique pour la sécurité alimentaire ?', 'query_8': 'Comment la productivité des filières agricoles et des soutiens a-t-elle été comparée aux pays de l’OCDE et de l’UE ?', 'query_9': \"Quel phénomène a produit des impacts systémiques aussi étendus sur l'économie mondiale au cours des deux derniers siècles, hormis les grandes crises économiques et les guerres mondiales ?\", 'query_10': 'Quel impact la crise du COVID-19 a-t-elle eu sur le trafic aérien et les heures de travail mondiales au cours du deuxième trimestre de 2020 ?', 'query_11': 'Quelle importance la pandémie de la Covid-19 a-t-elle révélée concernant la souveraineté sanitaire des pays et la relocalisation des systèmes alimentaires ?', 'query_12': 'Comment les pandémies influencent-elles la sécurité alimentaire des pays reposant sur des chaînes globales de valeur ?', 'query_13': \"Depuis combien de temps la sécurité alimentaire et les politiques agricoles font-elles l'objet de recherches et d'études internationales ?\", 'query_14': \"Quel est l'intérêt particulier de l'Algérie concernant les liens entre la sécurité alimentaire et les politiques agricoles ?\", 'query_15': \"Quel est le nombre de références sur Google Scholar concernant les effets des politiques de soutien de l'agriculture et de la pêche sur la sécurité alimentaire en Algérie pour la période 2000-2020 ?\", 'query_16': 'Quelles sont les différentes catégories de travaux prospectifs sur la sécurité alimentaire en Algérie ?', 'query_17': \"Quel aspect de l'analyse de la sécurité alimentaire en Algérie est novateur selon le texte ?\", 'query_18': 'Pourquoi la pêche est-elle souvent négligée dans les discussions sur la sécurité alimentaire en Algérie ?', 'query_19': \"Quelles sont les divergences d'opinion parmi les auteurs concernant la sécurité alimentaire en Algérie ?\", 'query_20': \"Quel est le rôle des importations alimentaires dans la vulnérabilité alimentaire de l'Algérie selon le texte ?\", 'query_21': \"Quel est le consensus parmi les auteurs concernant l'échec des politiques agricoles en Algérie ?\", 'query_22': \"Quel choix politique concernant la sécurité alimentaire a été fait par l'Algérie après son indépendance et comment a-t-il influencé les politiques agricoles ?\", 'query_23': 'Quels sont les éléments exogènes qui influencent les objectifs des politiques agricoles et de la pêche en Algérie ?', 'query_24': \"Quel est le débat soulevé sur l'analyse prospective de la sécurité alimentaire et du développement agricole en Algérie ?\", 'query_25': \"Quels mythes sont dénoncés par les spécialistes concernant les potentialités agricoles et halieutiques de l'Algérie ?\", 'query_26': \"Quel est le constat des auteurs sur l'accroissement de la dépendance alimentaire en Algérie ?\", 'query_27': \"Quel débat existe-t-il concernant l'efficacité des politiques de soutien à l'agriculture en Algérie ?\", 'query_28': \"Quel est le questionnement principal des chercheurs sur les programmes de soutien à l'agriculture en Algérie ?\", 'query_29': \"Quelle est la critique des résultats des politiques de soutien à l'agriculture en Algérie selon Bedrani et Bessaoud ?\", 'query_30': 'Quel est le débat sur la cohérence entre les moyens mobilisés et les objectifs des programmes de développement agricole en Algérie ?', 'query_31': 'Quels concepts ont été avancés pour répondre aux incertitudes alimentaires depuis l’indépendance en Algérie ?', 'query_32': 'Quels éléments les politiques publiques algériennes ont-elles souvent négligé en matière de sécurité alimentaire ?', 'query_33': 'Quelles sont les critiques faites par Chehat concernant la sécurité alimentaire en Algérie ?', 'query_34': 'Comment les éleveurs constatent-ils la dégradation des parcours et du couvert végétal en Algérie ?', 'query_35': 'Quels sont les problèmes rencontrés par les pêcheurs concernant la ressource halieutique en Algérie ?', 'query_36': 'Quels sont les défis majeurs auxquels l’Algérie sera confrontée d’ici 2050 selon les prévisions climatiques ?', 'query_37': 'Quels enjeux prospectifs sont identifiés pour le développement agricole et la pêche en Algérie ?', 'query_38': 'Quels changements sont nécessaires pour retrouver un cycle vertueux d’exploitation durable des ressources en Algérie ?', 'query_39': 'Comment les politiques agricole, alimentaire et halieutique ont-elles influencé le système alimentaire national algérien (SANA) ?', 'query_40': 'Quelles caractéristiques présente actuellement le SANA en Algérie ?', 'query_41': \"Quelle a été l'amélioration de la sécurité alimentaire en Algérie selon l’étude de 2018 ?\", 'query_42': \"Quel est le classement de l'Algérie selon le Global Hunger Index et l'Indice mondial de la sécurité alimentaire ?\", 'query_43': 'Quelles vulnérabilités sont encore présentes malgré les résultats positifs en matière de sécurité alimentaire en Algérie ?', 'query_44': 'Quels impacts la chute des revenus provenant des hydrocarbures a-t-elle sur le système alimentaire national algérien (SANA) ?', 'query_45': 'Quel est le modèle de développement agricole suggéré par Daoudi pour intégrer durablement toutes les exploitations agricoles ?', 'query_46': 'Quel changement de paradigme est proposé pour le modèle de développement des systèmes productifs agricoles et halieutiques en Algérie ?', 'query_47': \"Quelle est la question centrale de recherche concernant les nouvelles politiques de soutien à l'agriculture et la pêche ?\", 'query_48': 'Quelles sont les quatre questions secondaires identifiées pour la recherche sur la sécurité alimentaire en Algérie ?', 'query_49': \"Quelle est l'importance de la sécurité alimentaire selon la revue de littérature présentée dans le chapitre 1?\", 'query_50': 'Quels sont les quatre éléments principaux caractérisés par la problématique choisie?', 'query_51': \"Quels types de méthodes et outils ont été utilisés dans l'étude?\", 'query_52': \"Quels indicateurs ont été utilisés pour l'analyse rétrospective de la sécurité alimentaire en Algérie?\", 'query_53': \"Quelle méthode a été utilisée pour l'évaluation d'impact Ex-post des politiques agricole et de la pêche?\", 'query_54': 'Quelles sont les différentes méthodes de prospective utilisées pour la sécurité alimentaire en Algérie?', 'query_55': 'Quels concepts clés ont été pris en compte dans le cadre conceptuel du second chapitre?', 'query_56': 'Quels éléments principaux sont à retenir du cadre conceptuel relatif à la sécurité alimentaire?', 'query_57': \"Quels enseignements peuvent être tirés de l'évolution du cadre théorique des politiques publiques agricoles et halieutiques?\", 'query_58': \"Quels sont les aspects notables de l'évolution du cadre théorique correspondant à la prospective?\", 'query_59': \"Quels éléments sont mis en exergue concernant l'innovation dans l'étude?\", 'query_60': \"Quelles sont les caractéristiques du concept de système national d'innovation (SNI)?\", 'query_61': \"Qu'est-ce qui a provoqué l'augmentation du taux d'accroissement de la population en Algérie au cours des dernières décennies ?\", 'query_62': 'Quel a été le rythme annuel moyen de croissance du PIB en Algérie, et quels secteurs ont contribué à cette croissance ?', 'query_63': \"Comment a évolué la contribution du secteur des hydrocarbures à l'économie algérienne ces dernières années ?\", 'query_64': \"Quel a été le taux moyen d'accumulation de l'économie algérienne entre 2000 et 2019, et quels ont été les pics de ce taux ?\", 'query_65': 'Comment a évolué la consommation finale des ménages algériens entre 1999 et 2019, et quel a été son impact sur la croissance économique ?', 'query_66': \"Combien l'État algérien a-t-il dépensé en transferts sociaux entre 1999 et 2017, et quelle a été la part de ces transferts par rapport au PIB ?\", 'query_67': 'Comment ont évolué les importations totales et alimentaires en Algérie de 1999 à 2020 ?', 'query_68': 'Quelle est la part des hydrocarbures dans les exportations algériennes entre 2000 et 2020, et quelle est la valeur des exportations hors énergie sur cette période ?', 'query_69': 'Quel a été le taux de couverture des importations par les exportations en Algérie entre 2015 et 2020, et comment la balance commerciale a-t-elle évolué ?', 'query_70': \"Comment la balance des paiements de l'Algérie a-t-elle évolué de 2007 à 2019 ?\", 'query_71': 'Quel a été le taux de chômage moyen en Algérie entre 2009 et 2019, et quel secteur a absorbé le plus de la population active ?', 'query_72': 'Comment ont évolué les indicateurs macro-économiques algériens après 2015, malgré les bonnes performances précédentes ?', 'query_73': 'Quelle tendance a été observée concernant les exploitations agricoles en Algérie en raison des réformes du foncier agricole ?', 'query_74': \"Quel est le niveau d'instruction des chefs d'exploitation agricole en Algérie, et combien ont bénéficié d'une formation agricole conventionnelle ?\", 'query_75': 'Comment a évolué la superficie agricole utile et la part des terres mises en jachère entre 1998 et 2019 en Algérie ?', 'query_76': 'Comment le ratio SAU/habitant a-t-il évolué entre 1998-99 et 2000-2019?', 'query_77': 'Comment a évolué la superficie irriguée entre 2000 et fin 2019?', 'query_78': 'Comment la consommation de fonds fixes dans le secteur agricole a-t-elle évolué entre 2000 et 2018?', 'query_79': 'Quel montant a été consacré aux subventions pour les importations des produits alimentaires de large consommation?', 'query_80': \"Quel pourcentage des fonds de développement a été consommé pour l'investissement dans les exploitations agricoles et les entreprises?\", 'query_81': 'Quelle a été la croissance moyenne du secteur agricole sur la période considérée?', 'query_82': \"Comment la part de l'emploi agricole dans l'emploi total a-t-elle évolué entre 1999 et 2017?\", 'query_83': 'Quel a été le taux de croissance de la production de pommes de terre entre 1991-2000 et 2014-2019?', 'query_84': \"Comment se compare le rendement des filières céréalières et laitières avec celui des pays d'Afrique du Nord et de l'Union Européenne?\", 'query_85': 'Par combien la productivité de la terre a-t-elle été multipliée entre 2000 et 2019?', 'query_86': 'Quel est le multiplicateur des importations alimentaires par rapport aux deux dernières décennies ?', 'query_87': \"Comment l'agriculture a-t-elle évolué au cours des deux dernières décennies en termes de croissance sectorielle et de production ?\", 'query_88': 'Combien de personnes étaient employées dans la population maritime de la pêche en 2020 ?', 'query_89': 'Quel est le nombre total de navires de pêche immatriculés en 2020 ?', 'query_90': 'Combien de nouveaux ports et abris de pêche ont été construits et réhabilités depuis 2000 ?', 'query_91': 'Quel était le niveau moyen de production de la pêche de capture dans la décennie 2000 ?', 'query_92': 'Quel montant total a été consommé à partir du fonds de développement de la pêche et de l’aquaculture ?', 'query_93': 'Quelle était la valeur de la production halieutique en 2019 selon l’ONS ?', 'query_94': 'Quelle a été l’évolution de la productivité moyenne par unité de pêche depuis 2010 ?', 'query_95': 'Quel a été le taux de couverture des importations par les exportations entre 2010 et 2017 ?', 'query_96': 'Quel est le rôle du Système alimentaire national algérien (SANA) et quelle proportion de la sphère réelle représente-t-il ?', 'query_97': 'Quels éléments de la sécurité alimentaire sont suivis par la FAO et comment ont-ils évolué entre 2000-2002 et 2017-2019 ?', 'query_98': \"Quel est le classement mondial de l'Algérie selon le Global Food Security Index (GFSI) en 2020, et quelles sont ses positions par dimension ?\", 'query_99': \"Quel a été le score du Global Hunger Index (GHI) pour l'Algérie en 2020 et comment cela a-t-il évolué depuis 1992 ?\", 'query_100': \"Quel était le volume des disponibilités totales en produits agricoles et alimentaires en 2018, et comment cela se compare-t-il à l'année 2000 ?\", 'query_101': \"Quelle proportion de la ration journalière d'un Algérien était importée en 2018-2019 pour les apports en énergie, protéines et graisses ?\", 'query_102': \"Quelle contrainte importante au développement agricole est causée par la raréfaction de la main d'œuvre et le vieillissement de la population agricole ?\", 'query_103': \"Quelle est la superficie de terres agricoles perdues en Algérie depuis l’indépendance à cause de l'urbanisation ?\", 'query_104': \"Quel impact les changements climatiques risquent-ils d'avoir sur les rendements des céréales à l'horizon 2040 ?\", 'query_105': 'Quelles sont les principales menaces liées à la désertification et la pollution des sols en Algérie ?', 'query_106': \"Quels sont les facteurs contribuant à l'extension de la salinisation des terres en Algérie ?\", 'query_107': 'Quel impact le long cycle de sécheresse a-t-il eu sur les potentialités en eau superficielle du nord du pays?', 'query_108': 'Comment sont diversifiées les semences et ressources génétiques en Algérie, notamment celles des céréales et de la pomme de concentrée?', 'query_109': 'Quelle est la consommation d’engrais en Algérie comparée à la moyenne mondiale et comment cela affecte-t-il les sols?', 'query_110': 'Quels sont les risques d’épizooties importants au niveau de la sous-région?', 'query_111': 'Quelles sont les faiblesses structurelles des systèmes de commercialisation de produits agricoles en Algérie?', 'query_112': \"Comment l'agriculture de subsistance est-elle intégrée dans les différents types de systèmes agraires en Algérie, et combien y a-t-il d'exploitations inférieures à 01 hectare selon le RGA?\", 'query_113': 'Quel pourcentage des stocks halieutiques étaient encore surexploités selon le rapport FAO 2020 pour la Méditerranée et la mer Noire ?', 'query_114': \"Quel est l'impact du changement climatique sur la biodiversité en Méditerranée selon le GIEC ?\", 'query_115': 'Quels sont les éléments stratégiques nécessaires pour développer une aquaculture durable ?', 'query_116': 'Quels sont les facteurs clés de succès pour les chaînes de valeur halieutiques ?', 'query_117': \"Quels sont les principaux indicateurs de l'importance de la pêche artisanale en Algérie ?\", 'query_118': \"Quelle est la valeur économique des mers et des océans du monde et comment contribuent-ils à l'économie mondiale ?\", 'query_119': \"Quel est le classement de l'Algérie en 2020 parmi les 131 pays mentionnés?\", 'query_120': \"Comment l'Algérie se classe-t-elle en 2020 en termes d'intrants d'innovation par rapport aux années précédentes?\", 'query_121': \"Quels sont les principaux atouts du système d'innovation pour l'Algérie?\", 'query_122': \"Quelles sont les faiblesses du système d'innovation pour l'Algérie?\", 'query_123': 'Quels sont les trois types de résultats essentiels dégagés des travaux relatifs à la politique agricole et rurale ?', 'query_124': 'Quels constats ont été relevés en matière de conception et formulation des plans et programmes agricoles ?', 'query_125': 'Quels enseignements sont à retenir concernant la mise en œuvre de la politique agricole et rurale ?', 'query_126': \"Quel est l'objectif de l'évaluation de la politique de soutien agricole et rural réalisée ?\", 'query_127': \"Quelle a été l'évaluation de la pertinence de la politique agricole et rurale en Algérie ?\", 'query_128': \"Quelle a été l'évaluation de l'efficacité de la politique agricole et rurale en Algérie ?\", 'query_129': \"Quelle a été l'évaluation de l'efficience de la politique agricole et rurale en Algérie ?\", 'query_130': \"Quelle a été l'évaluation de l'impact de la politique agricole et rurale en Algérie ?\", 'query_131': 'Quels sont les facteurs externes et internes affectant la mise en œuvre de la politique agricole et rurale ?', 'query_132': \"Quelle a été l'évaluation de la pertinence de la politique halieutique en Algérie ?\", 'query_133': \"Quelle a été l'évaluation de l'efficacité de la politique halieutique en Algérie ?\", 'query_134': \"Quelle a été l'évaluation de l'efficience de la politique halieutique en Algérie ?\", 'query_135': \"Quelle a été l'évaluation de l'impact de la politique halieutique en Algérie ?\", 'query_136': 'Quelle est la situation actuelle de la politique de l’innovation et du développement technologique ?', 'query_137': 'Quels éléments de bilan sont associés à la politique d’innovation en construction sous l’impulsion du nouveau Ministère de l’économie de la connaissance et des startups ?', 'query_138': \"Quels sont les résultats du modèle à régression linéaire multiple dans l'évaluation de l'impact des soutiens à la production en Algérie?\", 'query_139': \"Que ne permet pas de mesurer l'évaluation par le modèle utilisé concernant les différentes mesures de soutien?\", 'query_140': \"Quels éléments doivent compléter l'analyse de l'impact ex-post?\", 'query_141': \"Quels aspects doivent être analysés à l'échelle des différentes filières et au niveau macro-économique selon les premiers résultats?\", 'query_142': 'Comment les soutiens à l’agriculture en Algérie se comparent-ils à ceux des pays de l’OCDE et de l’UE?', 'query_143': 'Quel est le taux de soutien à l’agriculture dans les pays de l’OCDE et de l’UE par rapport à l’Algérie?', 'query_144': 'Comment les soutiens influencent-ils la compétitivité des économies agricoles dans les pays grands producteurs?', 'query_145': \"Quel est l'écart en matière de soutien et de productivité entre l'Algérie et les pays de l'UE et de l'OCDE dans les filières du blé et du lait?\", 'query_146': 'Quel est le double objectif de la politique agricole en matière de substitution à l’importation et d’exportations?', 'query_147': \"Quel a été l'objectif principal de l'utilisation des méthodes et outils de la prospective pour la pandémie ?\", 'query_148': \"Quels sont les principaux points d'incertitude encore présents concernant la pandémie un an après ?\", 'query_149': 'Quelle est la pertinence des scénarios de la prospective à court terme pour la sécurité alimentaire en Algérie formulés en 2020 ?', 'query_150': 'Quelles hypothèses du scénario 3 ont été confirmées jusqu’ici ?', 'query_151': 'Que confirme le scénario 4 concernant les incertitudes et les risques d’instabilité ?', 'query_152': 'Quelle démarche a été effectuée sur le sujet de la sécurité alimentaire en Algérie à l’horizon 2050 et 2035 ?', 'query_153': 'Quelles méthodes et outils ont été utilisés pour réaliser le travail sur la sécurité alimentaire ?', 'query_154': 'Quels sont les quatre scenarii prospectifs formulés pour la sécurité alimentaire en Algérie à 2050 ?', 'query_155': 'Quels aspects ont été rendus intelligibles par la méthode MACTOR appliquée au secteur de la pêche ?', 'query_156': \"Quels sont les trois modèles alternatifs stratégiques ressortis de l'analyse en prospective stratégique ?\", 'query_157': 'En quoi consiste le Modèle de l’Intensification Durable Innovante et Inclusive (MID-Inov) ?', 'query_158': \"En quoi consiste le Modèle de la pêche responsable et l'aquaculture durable (MPRAD-Inov) ?\", 'query_159': \"En quoi consiste le SI endogène 'SI-Endog' ?\", 'query_160': 'Quels sont les alternatives stratégiques recommandées pour le secteur de l’agriculture, des productions halieutiques, et de la RSTD-I pour atteindre la sécurité alimentaire à 2050 ?', 'query_161': 'Quels sont les axes des orientations stratégiques de la politique agricole et rurale à 2035 ?', 'query_162': 'Quels sont les axes des orientations stratégiques de la politique halieutique à 2035 ?', 'query_163': 'Quels sont les axes des orientations stratégiques du SNI à 2035 ?', 'query_164': 'Quelle est la dimension transversale proposée pour la sécurité alimentaire à une échelle intersectorielle ?', 'query_165': 'Quelle est la base légale proposée pour mettre en place une politique de sécurité alimentaire durable ?'}, corpus={'corpus_0': 'La question alimentaire et son corollaire les politiques de soutien, agricole au développement rural et des productions halieutiques, ont de tous temps constitué une question centrale dans le débat politique et sociétale de l’Algérie indépendante. Implicitement c’est la nature l’orientation et l’efficacité de l’action publique, dans ce domaine, qui sont constamment interrogées.', 'corpus_1': 'Les subventions totales (Consommateurs + Producteurs) consommées pour la période 2000-2019 sont estimées à 3.680 milliards de dinars (équivalent à 31 Milliards USD au taux de change de l’année 2019) y compris le soutien au développement rural. La destination de ces subventions s’est répartie entre 62% aux consommateurs et 38% aux producteurs. Les céréales ont constitué à eux seules près de 65% des soutiens consommateurs et producteurs confondus et le lait 13,4%. En ce qui concerne les subventions aux consommateurs1 : au cours de ces deux décennies 2.253 milliards de dinars ont été consacrés à la subvention des importations de céréales et de lait (Blé et poudre de lait). Elles ont été dominées par les céréales pour plus de 84% (les blés en particulier).', 'corpus_2': \"Si la nécessité d’assurer la sécurité alimentaire du pays et des ménages, en tant que finalité, fait l’unanimité, ce n’est cependant pas le cas de l’évaluation des résultats et de l’orientation passée et future des politiques et des stratégies dans ce domaine. Ce travail tente de contribuer à éclairer ce débat à travers : une analyse rétrospective comparative (décennies 90/2000-2020), une évaluation d’impact Ex-post des politiques de soutiens récentes mises en œuvre (dans l'agriculture et le développement rural, la pêche et l’aquaculture, l'innovation), une prospective exploratoire des scénarios globaux d’évolution de la sécurité alimentaire en Algérie à 2050, et enfin une analyse en prospective stratégique à 2035 des politiques de soutiens des systèmes productifs agricoles et halieutiques et du développement technologique et de l’innovation orientées vers la sécurité alimentaire durable. Celle-ci en tant que résultante globale, socio-économique et environnementale, se retrouve au cœur des incertitudes relatives aux transitions multiples et complexes des modèles de croissance : économique, énergétique, écologique et de l’impact des changements climatiques et socio-économiques, au niveaux national et mondial.\", 'corpus_3': 'Le recours aux méthodes et outils de la prospective est dicté par la dimension éminemment systémique de la problématique de la sécurité alimentaire. Il aura permis aussi d’exploiter les travaux nombreux réalisés dans le monde en matière de prospective globale, régionale et ceux centrés sur les questions alimentaires dont la quasi-majorité s’inscrivent aujourd’hui dans les horizons à 2040 et 2050.', 'corpus_4': 'L’innovation au sens large : politique, organisationnelle, institutionnelle, technologique est alors considérée comme le principal vecteur de changement, de réduction des vulnérabilités, de résilience et de progrès. Il ne s’agit pas ici de promouvoir n’importe quel type d’innovation mais plutôt celle qualifiée d’endogène, de robuste, d’économe et d’adaptée pour les systèmes productifs agricoles et halieutiques, intégrant les enjeux du futur. Elle impose la construction d’un système d’innovation spécifique à la sécurité alimentaire durable SI-SAD.', 'corpus_5': 'Cette étude démontre qu’il est nécessaire, pour mieux se préparer à ces enjeux du « temps long » d’agir maintenant et d’aller plus loin et plus profondément qu’à travers des ajustements à la marge des politiques publiques liées à la sécurité alimentaire. Il s’agit de refonder et renforcer la cohérence et l’efficacité de l’action publique dans ce domaine par la mise en place d’une politique transversale de la sécurité alimentaire durable en Algérie et de s’assurer à travers sa déclinaison dans les politiques sectorielles de la transition vitale vers de nouveaux modèles de croissance adaptés de l’agriculture et de la pêche en Algérie à l’horizon 2035.', 'corpus_6': 'Le présent résumé exécutif reprend les principaux résultats et conclusions de cette étude entamée en 2017 dans le cadre d’une recherche action (doctorat es sciences agronomiques). Ces travaux ont généré de nombreuses opportunités de collaboration et d’échanges avec des chercheurs et experts nationaux et internationaux s’intéressant aux questions alimentaires et à la prospective. Les résultats ont aussi été confrontés aux avis d’experts dans le cadre des ateliers organisés dans le cadre du projet prospective sur la sécurité alimentaire du CREAD et dans les grandes écoles sur les questions de l’innovation dans le domaine alimentaire ( Food-tech, Agri-tech et Aqua-tech).', 'corpus_7': 'L’originalité de cette étude se trouve dans la réalisation d’une évaluation d’impact «\\u202f Ex post\\u202f» ( Pertinence- Efficacité- Efficience- Impacts- Mise en œuvre) des politiques publiques spécifiques menées dans l’agriculture, la pêche et l’innovation (1990/2000-2020), d’une part, et la mobilisation des outils et méthodes de la prospective stratégique pour la formulation des scénarii relatif à la sécurité alimentaire (2050) et l’identification des orientations stratégiques des politiques de soutien aux systèmes productifs locaux par l’innovation endogène au sens large ( Agriculture, Pêche, IAA) pour 2035 , d’autre part.', 'corpus_8': 'Par ailleurs, afin de mesurer et apprécier les progrès accomplis une analyse comparative de la productivité des filières agricoles et des soutiens a été effectuée avec particulièrement les pays de l’OCDE et de l’UE principaux fournisseurs de l’Algérie en matière de produits agricoles et alimentaires à l’importation et marchés potentiels à l’export à l’avenir.', 'corpus_9': \"Hormis, les grandes crises économiques (1929, crise financière mondiale de 2007-2008 …) et les guerres de portée mondiale (2ème guerre mondiale, guerres du pétrole au Moyen-Orient 1990 …) aucun phénomène n’a produit, au cours des deux derniers siècles, des impacts systémiques aussi étendus sur l’économie mondiale2 que la pandémie de la Covid 19. L’effet viral, sur le plan économique et social, s’est propagé à l’ensemble des régions du monde provoquant l’arrêt ou le ralentissement des échanges mondiaux de marchandises, de capitaux et de la circulation des personnes. A la date de mi-avril 2020, Au moins 4,5 milliards de personnes, dans 110 pays ou territoires, sont contraintes ou incitées par leurs autorités à rester confinées chez elles pour lutter contre la propagation de la Covid-19. Cela représente près de six humains sur dix (environ 58%), la population mondiale étant évaluée par l'ONU à 7,79 milliards de personnes en 20203.\", 'corpus_10': \"En quelques semaines « le monde et la mondialisation se sont arrêtés » l’ensemble du trafic aérien des personnes a été bloqué, la crise du COVID-19 devrait faire disparaître 17,3 pour cent d’heures de travail dans le monde au cours du deuxième trimestre de 2020, soit 495 millions d’emplois équivalents temps plein (ETP)4. Le fonds monétaire international (FMI)5 s'attend à une chute du produit intérieur brut PIB, à l'échelle planétaire, qui devrait se contracter de 4,9%, pour l’année 2020.\", 'corpus_11': 'La pandémie de la Covid-19 a certainement démontré toute l’importance de disposer, pour chaque pays, d’une souveraineté sanitaire «\\u202fà minima\\u202f» permettant de répondre en quasi-autonomie à une grave crise sanitaire. Elle démontre aussi la pertinence de «\\u202fla relocalisation des systèmes alimentaires\\u202f», versus mondialisation, corollaire déterminant d’accompagnement et de préservation de la santé humaine. Deux leçons globales sont à retenir de cette grave crise, particulièrement pour les pays en développement, celles d’une nécessaire double «\\u202fprotection sanitaire et alimentaire\\u202f».', 'corpus_12': 'Les pandémies rendent la sécurité alimentaire plus incertaine. De nombreux chercheurs et économistes appellent, à la suite de cette crise, à revoir les politiques alimentaires et agricoles en se concentrant davantage sur des systèmes alimentaires territorialisés et la souveraineté alimentaire.', 'corpus_13': \"La sécurité alimentaire et les politiques agricoles font l'objet de recherches et d'études internationales depuis de multiples décennies, englobant une variété de perspectives et d'approches.\", 'corpus_14': \"L'Algérie accorde un intérêt particulier aux liens entre la sécurité alimentaire et les politiques agricoles, notamment dans les domaines de la macroéconomie, des politiques agricoles, des filières et des questions environnementales.\", 'corpus_15': \"Il existe 4.300 références sur Google Scholar concernant les effets des politiques de soutien de l'agriculture et de la pêche sur la sécurité alimentaire en Algérie pour la période 2000-2020.\", 'corpus_16': \"Les travaux prospectifs sur la sécurité alimentaire en Algérie se classifient en quatre catégories : perspectives basées sur les tendances passées, modélisation et projections statistiques, études internationales, et travaux prospectifs spécifiques à l'Algérie.\", 'corpus_17': \"L'aspect novateur de l'analyse est l'intégration simultanée des secteurs de la pêche et de l'agriculture dans les travaux sur la sécurité alimentaire en Algérie.\", 'corpus_18': 'La pêche est souvent négligée dans les discussions sur la sécurité alimentaire en Algérie, malgré son importance pour de nombreux ménages et son potentiel pour améliorer la ration alimentaire.', 'corpus_19': \"Les divergences d'opinion parmi les auteurs concernent l'impact des politiques agricoles sur la sécurité alimentaire et la dépendance alimentaire, avec des points de vue variés sur la priorité à accorder à l'agriculture.\", 'corpus_20': \"Les importations alimentaires deviennent un facteur de vulnérabilité alimentaire pour l'Algérie en raison de la faiblesse structurelle de la couverture de ces importations par des exportations et la dépendance aux hydrocarbures.\", 'corpus_21': \"L'échec des politiques agricoles en Algérie est souvent prononcé en raison des données sur les importations agricoles, malgré l'influence d'autres processus non agricoles comme les transferts sociaux et la contrebande.\", 'corpus_22': \"Après l'indépendance, l'Algérie a choisi de privilégier l'amélioration de la ration alimentaire à bas prix, ce qui a influencé les politiques agricoles et agro-industrielles, ainsi que les politiques alimentaires et commerciales.\", 'corpus_23': 'Les objectifs des politiques agricoles et de la pêche en Algérie sont souvent exogènes et ne prennent pas suffisamment en compte les potentialités naturelles et les spécificités locales.', 'corpus_24': \"Le débat porte sur la nécessité d'une analyse prospective prenant en compte les potentialités et les handicaps locaux versus l'évaluation basée sur des objectifs fixés a priori.\", 'corpus_25': \"Les spécialistes dénoncent les mythes concernant les potentialités agricoles et halieutiques de l'Algérie, tels que l'idée que l'Algérie était un grenier à blé ou que le poisson y meurt de vieillesse.\", 'corpus_26': \"Les auteurs constatent une dépendance alimentaire accrue en Algérie due à l'augmentation des importations alimentaires et à des questions liées aux politiques publiques.\", 'corpus_27': \"Le débat sur l'efficacité des politiques de soutien à l'agriculture en Algérie concerne leur impact réel et la destination finale des aides accordées.\", 'corpus_28': \"Le questionnement principal des chercheurs porte sur l'efficacité, l'équité et la soutenabilité des ressources financières publiques allouées aux politiques de soutien à l'agriculture.\", 'corpus_29': \"Les critiques des résultats des politiques de soutien à l'agriculture en Algérie soulignent le manque de données fiables et l'insuffisance des résultats obtenus malgré les dépenses considérables.\", 'corpus_30': 'Le débat sur la cohérence entre les moyens mobilisés et les objectifs des programmes de développement agricole en Algérie inclut une comparaison des niveaux de soutien avec ceux des pays développés et émergents.', 'corpus_31': \"De multiples concepts ont été avancés, depuis l’indépendance, dans les documents et discours officiels pour répondre à la problématique des incertitudes alimentaires\\u202f: autosuffisance alimentaire, sécurité alimentaire, dépendance alimentaire, souveraineté alimentaire (Consultation et conférence nationale sur l'Agriculture Algérie, 1992 et 1996 ; Les assises nationales de développement de l’agriculture59, 2008 et 2018\\u202f; Madr, 2012\\u202f; Loi portant orientation agricole, 2008\\u202f; Cread, 2018a\\u202f;  Daoudi & Bouzid, 2020…). Cela sans toujours en préciser, de manière programmatique et stable les contours, les échelles d’impact, les limites socioéconomiques et les échéances temporelles. D’ailleurs, ces différents termes sont souvent considérés comme semblables dans la sphère médiatique et par les non spécialistes. Cela s’étend aussi parfois, dans les travaux de thèses à la confusion, dans l’évaluation des politiques agricoles en Algérie, entre les différents objets de l’évaluation que sont les programmes, les instruments, les mesures et les politiques.\", 'corpus_32': \"Si les instruments (fonds et instruments de financements…) et les mesures (coercitives ou d’incitations) sont nécessaires à l’existence d’une intervention publique, ils ne déterminent pas à eux seules l’existence réelle d’une politique, au sens scientifique du terme. Les politiques publiques en lien avec la sécurité alimentaire en Algérie se sont basées le plus souvent sur un régime de croissance60quantitatif 'tous azimuts' de l’offre et des disponibilités\\u202fdes biens et facteurs de production : ingrédients, intrants agricoles, mobilisation des ressources en eau, mécanisation, flottille, infrastructures et de la logistique, formations universitaires, itinéraires et normes techniques… Ainsi, ces processus sont fondés, de manière explicite ou implicite, sur des stratégies productivistes de rattrapage pour les systèmes productifs agricole et de la pêche61\\u202f: révolution verte pour l’agriculture, développement des capacités de capture (flottille et infrastructures portuaires) pour la pêche, agri business extraverti pour les industries de transformation, libéralisation pour le commerce extérieur, promotion des circuits logistiques et de distribution pour la consommation de masse.\", 'corpus_33': 'Chehat62 met particulièrement l’accent, par rapport à la problématique de la sécurité alimentaire en Algérie, sur «\\u202fla faiblesse de la recherche agronomique pour mettre au point de nouvelles variétés adaptées aux conditions locales...\\u202f». Les chercheurs et les experts ne sont pas les seules à percevoir, les processus en jeu, pour les systèmes productifs nationaux, à se questionner et à vouloir un changement. Les consommateurs en Algérie commencent à être inquiets des origines des produits, du manque de qualité, de l’hygiène et des dangers sanitaires. De nombreux rapports en cours dressent un tableau alarmant sur la situation alimentaire du pays, alors que les évolutions économiques récentes, la diversité alimentaire ainsi que le pouvoir d’achat de la population ont largement progressé. Cependant, il n’en reste pas moins que l’accès à une alimentation suffisante, adéquate et de qualité, est encore un défi important dans le contexte économique national, local et international.', 'corpus_34': 'De nombreux éleveurs constatent que les parcours se dégradent progressivement, annonciatrice d’un processus de désertification\\u202f: la sécheresse et les épizooties (santé animale) se multiplient, rendant le niveau d’effort de plus en plus difficile à maintenir. Cela, alors que les changements climatiques, associés à la pression anthropique croissante, provoquent la réduction des ressources naturelles, des ressources en eau et des sols arables. Cette situation pourrait également influencer la dynamique de migration des troupeaux et du déclin de l’élevage extensif.', 'corpus_35': 'Les pêcheurs constatent un impact important sur la ressource halieutique qui semble en danger, de part le niveau des captures erratiques et une tendance baissière des quantités pêchées. Les modifications dans la structure des stocks de poissons, les variations des rendements, et les défis liés à la gestion des ressources sont des préoccupations majeures pour les professionnels de la pêche.', 'corpus_36': 'D’ici 2050, les défis majeurs auxquels l’Algérie sera confrontée sont : la sécurité alimentaire durable, les impacts de la transition énergétique sur les systèmes productifs agricoles et halieutiques, et les effets des changements climatiques sur les ressources globales. L’évolution des conditions climatiques entraînera des changements dans les écosystèmes et les modes de production, augmentant ainsi les vulnérabilités économiques et environnementales. Les politiques publiques devront anticiper et intégrer ces défis pour assurer un avenir alimentaire stable et durable pour la population.', 'corpus_37': \"Les enjeux prospectifs identifiés incluent : la croissance démographique, qui entraîne une pression accrue sur les ressources alimentaires et naturelles ; la diffusion des innovations endogènes, nécessaires pour améliorer la productivité et la durabilité des systèmes agricoles et halieutiques ; la rareté de la main d'œuvre, qui impacte la capacité à maintenir les niveaux de production nécessaires ; et la protection des ressources naturelles pour garantir leur pérennité et leur disponibilité future.\", 'corpus_38': 'Pour retrouver un cycle vertueux d’exploitation durable des ressources, il est nécessaire d’innover dans les pratiques agricoles et halieutiques, de réapprendre à optimiser les processus biologiques en respectant la naturalité des processus de production. Cela implique une transition vers des pratiques de gestion durables, une meilleure régulation des ressources et une adaptation aux changements climatiques.', 'corpus_39': 'Les politiques agricoles, alimentaires et halieutiques ont influencé le système alimentaire national algérien (SANA) en promouvant un modèle agro-importateur, favorisant la dépendance aux importations alimentaires. Elles ont aussi encouragé l’entrepreneuriat agricole et halieutique moderne, mais ont parfois négligé les aspects de durabilité et d’intégration des systèmes productifs nationaux.', 'corpus_40': 'Le SANA présente actuellement des caractéristiques de régimes de croissance extensifs, axés sur des approches productivistes sans toujours intégrer les innovations endogènes nécessaires à une durabilité à long terme. Il est également marqué par un faible intérêt pour l’intégration des aspects environnementaux et sociaux dans les politiques de développement.', 'corpus_41': 'L’étude de 2018 a confirmé une amélioration certaine de la sécurité alimentaire et nutritionnelle en Algérie, mais a aussi mis en évidence des poches de pauvreté persistantes et des maladies alimentaires émergentes, malgré les progrès réalisés.', 'corpus_42': 'Selon le Global Hunger Index, l’Algérie est classée au 46ème rang, tandis qu’elle occupe le 70ème rang dans l’Indice mondial de la sécurité alimentaire. Ces classements reflètent des améliorations relatives, mais aussi des défis persistants en matière de sécurité alimentaire.', 'corpus_43': 'Malgré les résultats positifs en matière de sécurité alimentaire, des vulnérabilités persistent, notamment des incohérences dans les politiques publiques, une dépendance aux marchés internationaux pour les importations alimentaires, et des défis économiques et environnementaux qui impactent la durabilité du système alimentaire.', 'corpus_44': 'La chute des revenus provenant des hydrocarbures a des impacts significatifs sur le système alimentaire national algérien (SANA), notamment une incertitude quant à la capacité de répondre aux besoins alimentaires de la population, de financer les importations nécessaires, et de maintenir un régime de croissance extensif face aux défis économiques.', 'corpus_45': 'Le modèle de développement agricole suggéré par Daoudi intègre une approche plus productive et efficace, en préservant les ressources naturelles et en soutenant les exploitations familiales et paysannes. Cela implique une transition vers des pratiques agricoles durables et une meilleure intégration des différentes exploitations agricoles.', 'corpus_46': 'Le changement de paradigme proposé consiste à passer d’un modèle de « low price food for all » à un modèle de « low food prices targeted and fair price for all », avec une orientation vers une croissance endogène et durable. Cela nécessite une réforme des politiques alimentaires pour soutenir une sécurité alimentaire équitable et durable.', 'corpus_47': 'La question centrale de recherche est de déterminer quelles orientations stratégiques doivent être adoptées pour assurer une sécurité alimentaire durable et atténuer les vulnérabilités alimentaires. Cette question englobe l’évaluation des politiques actuelles et la formulation de nouvelles stratégies adaptées aux défis futurs.', 'corpus_48': \"Les quatre questions secondaires identifiées sont : l'état actuel de la sécurité alimentaire, les impacts des politiques de soutien sur les systèmes alimentaires, la compatibilité des modèles de croissance avec les objectifs de durabilité, et le rôle des innovations dans la transition vers une sécurité alimentaire durable.\", 'corpus_49': 'La synthèse de la revue de littérature sur le thème de la sécurité alimentaire, présentée dans les deux premières sections du chapitre 1, montre son importance tant sur le plan des travaux de recherche menés au niveau national qu’au niveau international. Cependant et malgré l’intérêt du sujet, peu de travaux\\u202frécents en Algérie ont considéré ce thème en tant qu’objet de recherche direct et adopté une posture de recherche action\\u202f; fait le choix de partir «\\u202fen bonne et due forme\\u202f» d’une évaluation d’impact ex-post des politiques de soutiens menées depuis ces deux dernières décennies et incorporé simultanément une analyse rétrospective de l’évolution des systèmes productifs locaux (agriculture, pêche, IAA)\\u202fet de leurs vulnérabilités ; intégré l’innovation endogène au sens large (technologique, politique, organisationnelle, institutionnelle…) comme principal vecteur de changement\\u202f; utilisé les méthodes et outils de la prospective stratégique pour formuler\\u202f: des scénarios à 2050 pour la sécurité alimentaire en Algérie et identifier des orientations stratégiques à 2035 afin d’assurer l’ajustement et «\\u202fl’appariement\\u202f» des politiques agricoles, du développement rural, de la pêche et de l’aquaculture et de l’innovation,  aux enjeux du futur (sécurité alimentaire durable).', 'corpus_50': 'Ainsi, la problématique choisie a déterminé l’étude et la caractérisation des liens entre quatre éléments principaux\\u202f: (1) La sécurité alimentaire\\u202fen Algérie (2) l’état des systèmes productifs et leur modèle de croissance de référence (3) les politiques publiques de soutien aux systèmes productifs locaux (agriculture et pêche) et à l’innovation\\u202fet leurs impacts ; (4) la prospective de la sécurité alimentaire (à court et moyen long terme) et la réorientation stratégique des modèles de croissance des systèmes productifs et des politiques de soutien qui les sous-tendent.', 'corpus_51': 'Une batterie large de méthodes et d’outils a été mobilisée pour ce faire,  en matière: de collecte de données\\u202f; de traitement des données quantitatives\\u202f; d’évaluation des politiques agricole et de la pêche en lien avec la sécurité alimentaire\\u202f; d’évaluation de la sécurité alimentaire\\u202f; de diagnostic stratégique et prospectif\\u202f; d’étude du positionnement stratégique des acteurs ; d’étude et d’analyse en prospective stratégique\\u202f; de formulation des nouvelles orientations stratégiques des politiques de soutiens à la sécurité alimentaire durable en Algérie à l’horizon 2035.', 'corpus_52': 'Dans ce cadre\\u202fles méthodes et outils suivants ont été mobilisés: Etude Rétrospective L’analyse rétrospective des indicateurs macro-économiques et des secteurs agricole et de la pêche, afin de déterminer les tendances lourdes et les variables déterminantes de leur évolution. L’exploitation des indicateurs et indices mondiaux : Indicateurs de la sécurité alimentaire de la FAO (2000-2019), le «\\u202fGlobal Food Security Index\\u202f» (GFSI-2020) et le Global Hunger Index\\u202f» GHI-2020\\u202f; pour la rétrospective et la situation actuelle de l’évolution de la sécurité alimentaire en Algérie. L’analyse des facteurs de risque et de vulnérabilité des systèmes productifs agricole et halieutique, et l’analyse de l’évolution de la ration alimentaire et du poids de l’offre locale à travers l’examen comparatif des bilans alimentaires FAO (1962-2018).', 'corpus_53': \"Evaluation d’impact Expost La grille d’analyse comparative, construite, de l’évolution des plans et programmes de développement agricole et rural et de la pêche (décennie 1990 /2000-2018). La méthode d’ évaluation d’impact Ex-post de type 'récapitulative' des politiques agricole et de la pêche en liens avec la sécurité alimentaire (Pertinence-Efficacité-Efficience- Impact- Mise en œuvre), pour la période (2000-2018). Le modèle de régression linéaire multiple afin de mesurer, pour le cas de l'Algérie, les effets des subventions sur la croissance agricole (2000-2018). Le calcul des indicateurs et ratios de soutiens agricoles et alimentaires respectivement aux producteurs et consommateurs et les soutiens à la production par filières pour la période (2000-2020) en Algérie. L’analyse comparative des soutiens à l’agriculture et au développement rural avec les pays de l’OCDE et de l’Union Européenne.\", 'corpus_54': \"Prospective court terme 2022 La méthode de construction de «\\u202fscénarii matricielles 2x2\\u202f» pour une prospective de court terme sur la sécurité alimentaire en rapport avec la Covid-19 (2022). Prospective exploratoire SA 2050 Le diagnostic stratégique et prospectif 'SWOT', l’identification des enjeux prospectifs et des modèles de croissance alternatifs, et l’élaboration du «\\u202fsocle stratégique\\u202f» pour les secteurs agricole, de la pêche et de l’innovation. La méthode prospective DEGEST pour l’analyse prospective de long terme (2035 pour les orientations stratégiques et 2050 pour les scénarios prospectifs) sur la sécurité alimentaire et les politiques de soutiens. Prospective stratégique – Politiques soutiens 2035 La mise au point d’une méthodologie convergente, pour la formulation des nouvelles orientations stratégiques prospectives (MFOSP) des politiques de la sécurité alimentaire durable en Algérie à 2035. Les outils de l’analyse en prospective stratégique pour les systèmes productifs agricole et halieutique (Sensibilité-Robustesse -Pertinence-Flexibilité). La méthode MACTOR pour l’étude du positionnement stratégique des acteurs pour le secteur de la pêche.\", 'corpus_55': 'Un cadre conceptuel étendu\\u202f: Le second chapitre, par conséquent, avait pour objet de constituer un cadre conceptuel et théorique de référence pris en compte pour les quatre concepts clés que forment la sécurité alimentaire, les politiques publiques, la prospective et l’innovation. Ce dernier, s’est appuyé sur un corpus théorique puisé dans différentes sciences et disciplines\\u202f: sciences agronomiques, sciences économiques, économie politique, analyse cognitive des politiques publiques, théorie de la croissance endogène, économie agricole et alimentaire, sociologie des organisations, statistiques et modélisation, prospective stratégique…etc.', 'corpus_56': 'En ce qui concerne, le cadre conceptuel relatif à la sécurité alimentaire les principaux éléments à retenir\\u202fsont: l’ancienneté du fait alimentaire\\u202f; l’abandon de l’ambition d’autosuffisance alimentaire\\u202fà partir des années 80\\u202f; le caractère néo-libéral du concept de sécurité alimentaire\\u202f; la définition consensuelle de la sécurité alimentaire\\u202fdu sommet mondial de l’alimentation de 1996\\u202f; les enrichissements successifs du concept de sécurité alimentaire\\u202fet l’émergence des enjeux environnementaux\\u202f; la résurgence récente des enjeux des systèmes de production locaux et de la géopolitique alimentaire\\u202f( souverainisme alimentaire) ; les modes d’évaluation et les indicateurs d’évaluation de la sécurité alimentaire,  les conséquences de l’intégration explicite de la dimension de durabilité en matière d’orientation future des politiques publiques dans le domaine de l’alimentation\\u202f; la sécurisation alimentaire\\u202fen tant que posture de recherche action\\u202f; le caractère systémique de la sécurité alimentaire\\u202f; la prise en compte des vulnérabilités.', 'corpus_57': \"S’agissant de l’évolution du cadre théorique relatif aux politiques publiques et à celui de la politique agricole et halieutique, les enseignements suivants sont à signaler : la nature polysémique du terme «\\u202fpolitique\\u202f» dans la littérature\\u202f; les différentes dimensions d’une politique publique\\u202f; les liens dialectiques entre les politiques publiques et les transformations sociales\\u202fet la nature de l’Etat\\u202f; les évolutions de l'analyse des politiques publiques\\u202fen tant que science de l’action publique\\u202f; Les critères simultanés, qui fonde l’existence de toute politique publique\\u202f; le cycle et le modèle de causalité d’une politique publique\\u202f; la politique publique considérée comme une théorie du changement social\\u202f; les méthodes d’évaluation des politiques publiques.\", 'corpus_58': \"Quant à l’évolution du cadre théorique correspondant à la prospective, les leçons suivantes sont à noter : une longue histoire des futurs\\u202f; l’émergence de la prospective contemporaine\\u202fà la fin de Seconde Guerre Mondiale , la crise de la prospective\\u202fde la décennie 90\\u202f; l'école Américaine du Foresight\\u202f; l'école française de la prospective\\u202f; le rapprochement  des méthodes et outils des différentes écoles\\u202f; les différentes définition de la prospective\\u202f; les concepts spécifiques de la prospective\\u202f; la typologie de la prospective\\u202fde la Prospective Exploratoire à la Prospective Stratégique\\u202f; les grandes tendances et incertitudes sur les variables globales dans les études prospectives (2030, 2040, 2050 et 2100)\\u202f; la prospective des technologies et des innovations alimentaires\\u202f; l’émergence des modèles alternatifs durables pour les systèmes productifs agricole et halieutique.\", 'corpus_59': \"Enfin pour celui de l’innovation, les éléments suivants sont mis en exergue : la nécessité sociale et économique\\u202fde l'innovation ; l’émergence de la théorie de la croissance endogène et l’innovation\\u202f; la multitude de sens\\u202f de la notion d'innovation et les risques de confusion entre innovation et recherche ; les différentes formes de l’innovation (rupture, incrémentale) et ses piliers fondateurs ( créativité, valeur …)\\u202f; les différents modèles de l'innovation\\u202f(Techno-push, market Pull, dynamiques contemporains)\\u202f; le modèle de l’innovation frugale (Jugaad\\u202findien)\\u202f; le modèle Shanzhai (Chinois).\", 'corpus_60': \"Pour l’émergence du concept de système national d'innovation (SNI)\\u202f: les caractéristiques en commun des SI\\u202f; la définition élargie du SNI\\u202f; les spécificités de l’innovation dans les pays en développement\\u202f; les facteurs principaux catalysant l’émergence d’une dynamique d’innovation\\u202f; la nécessité d’une politique de l’innovation\\u202f; les faiblesses et traits communs des systèmes nationaux d’innovation des pays du Maghreb\\u202f; les caractéristiques du SNI algérien\\u202f; les innovations et la sécurité alimentaire durable\\u202f; l’urgence du changement de paradigme socio-technique.\", 'corpus_61': 'L’amélioration des conditions de vie des ménages algériens et le retour de la paix sociale et civile ont été à l’origine de l’augmentation du taux d’accroissement de la population.', 'corpus_62': 'Le Produit Intérieur Brut (PIB) a progressé en valeur nominale à un rythme annuel moyen de 3,2 %. En hors hydrocarbures, cette croissance serait en moyenne de 5,67% sur la période considérée.', 'corpus_63': 'Le secteur des hydrocarbures reste sur un trend de baisse de la croissance (déclin) puisque sur la période considérée, il n’a réalisé qu’une croissance moyenne de 0,2% jusqu’en 2017 et négative pour ces trois dernières années.', 'corpus_64': 'Un taux d’accumulation de l’économie algérienne (rapport de la FBCF sur le Produit Intérieur Brut) moyen important et même l’un des plus élevé dans le monde.', 'corpus_65': 'La consommation finale des ménages Algériens (CFMA) a connu une croissance remarquée au cours de la période 1999-2019.', 'corpus_66': 'Sur la période 1999-2017, l’Etat a eu à débourser environ 36.886,2 milliards de DA de transferts sociaux, soit l’équivalent de 449,5 milliards de US$.', 'corpus_67': 'Les importations totales ont connu une progression continue et soutenue. De 1999 où elles étaient de l’ordre de 9,2 milliards de US $ à l’année 2014 où elles ont atteint un pic de 58,6 milliards de US $.', 'corpus_68': 'Les ventes algériennes à l’extérieur sont restées toujours dominées par les exportations d’hydrocarbures qui ont représenté sur la période considérée la part de 96,4% de l’ensemble des exportations de marchandises.', 'corpus_69': 'Depuis 2015, les exportations ne couvrent plus les importations que pour une moyenne de 76% pour la période 2015-2020.', 'corpus_70': 'La balance des paiements a globalement affiché des excédents positifs et même importants (29,6 milliards de US $ en 2007 et 37,2 milliards de US $ en 2008) jusqu’à l’année 2013.', 'corpus_71': 'Le taux de chômage depuis l’année 2009 à 2019, a été maintenu à une moyenne de 11% pour la période 2015-19.', 'corpus_72': 'Sur l’ensemble de la période considérée les indicateurs macro-économiques se sont fortement améliorés par rapport à la période précédente.', 'corpus_73': 'Une tendance à l’émiettement des exploitations agricoles par l’effet des réformes du foncier agricole (domaine privée de l’Etat) et de l’indivision.', 'corpus_74': 'En ce qui concerne le niveau d’instruction les 2/3, soit plus de 660.000 chefs d’exploitations n’ont aucun niveau d’instruction.', 'corpus_75': 'L’occupation des terres sur près de deux décennies a régressé de presque 10% et celle consacrée aux plantations fruitières a quasiment doublé.', 'corpus_76': 'A la faveur d’une croissance plus rapide de la démographie au cours de cette période le ratio SAU/habitant a baissé passant de 0,276 en moyenne (1998-99) à 0,232 pour la période (2000-2019).', 'corpus_77': 'La superficie irriguée est passée de 350.000 ha en 2000 à 1.430.000 ha à fin 2019, soit un taux d’accroissement de plus de 300%.', 'corpus_78': 'La consommation de fonds fixes dans le secteur de l’agriculture a quasiment doublé au cours de la période de 2000-2018 en comparaison avec la moyenne 1995-1999. Elle a particulièrement été importante au cours des années 2015-2018 atteignant une moyenne de 4.800 millions de dinars (avec un pic en 2016 à 6.300 millions de dinars).', 'corpus_79': '2.253 Milliards de dinars ont été consacrés pour les subventions aux importations des produits alimentaires de large consommation, soit 82% des dépenses en budget de fonctionnement.', 'corpus_80': \"Dans ce cadre 46% des soutiens consommés ont été consacrés à l'investissement dans les exploitations agricoles et les entreprises.\", 'corpus_81': 'Sur la période considérée, le secteur agricole a réalisé une croissance moyenne de 5,8%.', 'corpus_82': 'La part de l’emploi agricole dans l’emploi total a connu une nette tendance vers la baisse passant de 19,5% en 1999 à 10,1% en 2017.', 'corpus_83': 'L’analyse comparée de l’évolution des productions agricoles par filières (moyenne décennale 91-2000/moyenne 2014-2019) montrent un croît important des volumes de production particulièrement pour la pomme de terre (343%).', 'corpus_84': 'L’analyse comparés des rendements avec le Monde, la région d’Afrique du Nord et les pays de l’Union Européenne dévoilent un retard encore important pour les filières des céréales et du lait.', 'corpus_85': 'La productivité de la terre va être multipliée par 4,2 entre (2000/2019).', 'corpus_86': 'La forte dépendance dans les filières agro‐alimentaires (céréales, lait …) de large consommation en matière première provenant de l’importation n’a pas pu être réduite et c’est même accentué au cours des deux dernières décennies. Les importations alimentaires en comparaison des deux mêmes périodes le multiplicateur est de : 3. Passant de 2.7 Milliards de dollars à plus de 6.6 milliards de $US. Elles se sont stabilisées autour de 08 Milliards ces deux dernières années. Le taux de couverture des importations agricoles et alimentaires par les exportations est passée de 110% en moyenne dans les années 60 à 04% pour la période 2016-2020.', 'corpus_87': 'Ainsi , au cours de ces deux dernières décennies l’agriculture aura connu une évolution positive précisément en matière de croissance sectorielle, de croissance de la production pour certaines filières, d’amélioration de la productivité du travail et du capital et de l’évolution de la superficie agricole utile et de celle sous irrigation. Néanmoins, ces niveaux de croissance restent caractérisés par leur variabilité interannuelle forte, une productivité à l’hectare encore faible en comparaison avec les pays développés et des structures de production fortement émiettés. Malgré, cette dynamique le secteur ne joue pas encore pleinement son rôle de moteur de la croissance économique et est encore peu intégré à l’industrie agro-alimentaire. Le niveau de croissance de l’offre agricole globale reste en déca de l’évolution de la demande alimentaire (06% contre 12 à 14% ) et dans certains cas (céréales et laits particulièrement ) les déficits ont été principalement comblés par les importations.', 'corpus_88': \"La population maritime de la pêche comprenant l'ensemble des emplois directs et indirects a été estimés à 122.500 personnes occupées contre 28.225 en 2000. Ceux-ci sont en majorité occupés par des jeunes (60 % des inscrits maritimes ont moins de 40 ans), donnée d’autant plus importante à souligner que ces derniers, en Algérie, sont particulièrement touchés par le chômage.\", 'corpus_89': 'La flottille de pêche immatriculée s’est particulièrement accrue depuis 1990 pour atteindre en 2020 un total de 5.862 navires de pêche. Alors qu’en 1990, elle comprenait 1.548 embarcations de différentes tailles, elle en compte, en 2020, 5862\\u202f: constituée principalement par les petits métiers (64 %), les sardiniers (25 %) et les chalutiers (11 %).', 'corpus_90': 'Le développement des infrastructures depuis 2000. Ces vingt dernières années, pas moins de vingt nouveaux ports et abris de pêche ont été construits et réhabilités, et huit plages d’échouage ont été mises en place pour les besoins de la pêche artisanale. Ces infrastructures constituent autant d’espaces stratégiques (services publics, postes frontières maritimes, etc.).', 'corpus_91': 'La production issue de la pêche de capture aura connu un accroissement significatif lors de la décennie 2000, atteignant une moyenne supérieure à 135.000 tonnes (99 928 tonnes pour la décennie 1990). Cette production a fortement baissé depuis 2010 pour revenir à un niveau moyen légèrement supérieur à 100 000 tonnes. La production aquacole a atteint en 2019, 4.735 Tonnes contre 351 Tonnes en 2000 dont 2.200 tonnes d’aquaculture marine et 2.500 Tonnes d’aquaculture continentale.', 'corpus_92': \"En matière de soutien plus de 15,4 Milliards de dinars ont été consommés au total à partir du fonds de développement de la pêche et de l’aquaculture. Le Soutien direct à l'investissement à caractère privé a atteint 11,5 milliards de DA. Au total, la valeur patrimoniale des investissements en infrastructure, superstructures et outils de production s'élève à 193,4 Milliards de dinars. Ce qui permet de prendre la mesure du poids financier et économique que constitue notamment les investissements et le domaine portuaire de la pêche, pour le secteur.\", 'corpus_93': 'La valeur de la production halieutique a été estimée par l’ONS en 2019 à 116 Milliards de dinars contre plus de 25 Milliards de dinars en 2009. Le taux de croissance de la production est de 1% sur la période 2009-2019 avec un maxima de 4,9% en 2012 et un minima de -5,3% en 2009.', 'corpus_94': 'La baisse des captures de la pêche depuis 2010 a non seulement entraîné une chute importante de la productivité moyenne par unité de pêche (divisée par 2 en dix ans) mais aussi une baisse de la productivité du travail et des revenus des marins pêcheurs. Ainsi, la quantité pêchée par unités de flottille est passé de 76,6 tonnes /an en 2000 à 27,2 Tonnes par an en 2019.', 'corpus_95': 'Le taux de couverture des importations par les exportations a fortement diminué au cours de la période (2001-2019) particulièrement après 2008 passant à moins de 10% entre 2010 et 2017.', 'corpus_96': 'La synthèse des principales données analysées précédemment à l’échelle macro-économique et de celles des secteurs de l’agriculture, de la pêche et de l’aquaculture et des industries agro-alimentaires en Algérie a donné lieu à l’identification d’indicateurs agrégés du Système alimentaire national algérien SANA. Celui-ci représente aujourd’hui le 1/5 de la sphère réelle, des millions d’acteurs concernés, des dizaines de milliers de territoires à prendre en compte.', 'corpus_97': 'Pour les 04 dimensions de la sécurité alimentaire suivi par la FAO , les éléments suivants ont été mis en relief: La disponibilité\\u202f: La disponibilité totale passe de 2.939 Kcal/personnes /jour (2000-2002) à 3.343 Kcal/personnes /jour (2017-2019) , bien au-delà des normes préconisées en la matière. La suffisance des apports énergétiques évolue favorablement dans le même sens et est fortement excédentaire. Le déséquilibre provient plutôt d’une trop grande part des apports énergétiques provenant des céréales et d’une disponibilité en protéines moyennes d’origine animales encore faible. L’accès\\u202f: Les sous indicateurs relatifs à l’accès à l’alimentation ont évolué positivement entre les périodes 2000-2002 et 2017-2019 particulièrement pour la prévalence de la sous-alimentation, le nombre de personnes sous alimentées passe de 1,2 millions contre 2,5 et la prévalence de l’insécurité alimentaire modérée ou grave qui diminue à 17,6% de la population. La stabilité\\u202f: Pour la stabilité il est important de retenir les progrès réalisés en matière de pourcentage de terres arables aménagées pour l’irrigation qui est passé à de 7,8% à 17% (2019) et la stabilité politique et sécuritaire retrouvée par l’Algérie. L’Utilisation\\u202f: Cette dimension évolue favorablement grâce à la diminution conséquente des pourcentages des enfants de moins de 05 ans émaciés et ceux présentant un retard de croissance. Cependant on constate l’accroissement de la prévalence de l’obésité chez les adultes.', 'corpus_98': 'Pour le «\\u202fGlobal Food Security Index\\u202f» (GFSI): L’Algérie a été classée au 58ème rang mondial en 2020 pour un score de l’indice global de 61,8. Pour rappel elle avait été classée en 2017 au 68ème rang mondial pour un score de 51,5 soit une progression de 10 places. Par dimensions, le classement de l’Algérie est 44ème pour l’accès (78,7), 66ème pour la disponibilité (55,7) et pour la qualité et santé (62) et enfin 92ème pour les ressources naturelles et la résilience. Ce classement est plus faible pour les dimensions de qualité et de sécurité sanitaire et pour la quatrième dimension de durabilité environnementale.', 'corpus_99': 'Pour le Global Hunger Index\\u202f» (GHI)\\u202f: Pour le cas de l’Algérie, le GHI est passé de 16,8 en 1992 à 14,5 en 2000, 11,7 en 2006 et s’est stabilisé à 9 pour 2012 et 2020. Cette évolution a marqué une progression importante dans l’éradication de la faim . En 2020, le score du GHI est de 9 pour l’Algérie tout en la maintenant dans le groupe de pays considérés à faible prévalence de la faim. Avec ce score, l’Algérie se classe à la 46ème place. Ainsi, la proportion de personnes sous alimentées dans la population a fortement baissé représentant en 2020 passant de 8% en 2000 à 2,8 % en 2020. Les mêmes tendances sont observées pour les autres sous indicateurs.', 'corpus_100': 'Pour les disponibilités totales en produits agricoles et alimentaires en Algérie, les données disponibles pour 2018 ont atteint un volume de plus de 47,2 millions de tonnes avec une multiplication par 2,04 par rapport à l’année 2000. Les disponibilités à partir de l’offre locale ont atteint 30,39 millions de tonnes avec une multiplication par 3,38 par rapport à l’année 2000.', 'corpus_101': 'La proportion de la ration journalière d’un Algérien en 2018-2019 montre qu’en moyenne 68% des apports en énergie, 55% des apports en protéines et 47% des graisses proviennent des importations.', 'corpus_102': \"La raréfaction de la main d'œuvre et le vieillissement de la population agricole se posent comme une contrainte majeure au développement agricole. Il s’agit de la diminution et le vieillissement de la main d’œuvre dans le secteur agricole en Algérie. Ce phénomène est très préoccupant car il menace la pérennité des activités agricoles et la durabilité de la production alimentaire.\", 'corpus_103': \"Depuis l’indépendance, l’Algérie a perdu près de 250.000 hectares de terres agricoles à cause de l'urbanisation effrénée et anarchique, ce qui a conduit à une réduction significative des terres cultivables.\", 'corpus_104': 'Les changements climatiques risquent d’entraîner une diminution des rendements des céréales pouvant aller jusqu’à 10 à 20% par rapport au niveau de rendement observé en 2011 à l’horizon 2040.', 'corpus_105': 'Les principales menaces liées à la désertification et la pollution des sols en Algérie incluent la déforestation, la dégradation des sols agricoles, et l’érosion qui compromettent la qualité des sols et leur capacité à soutenir la production agricole.', 'corpus_106': 'Les principaux facteurs contribuant à la salinisation des terres en Algérie sont l’aridité du climat, la qualité médiocre des eaux d’irrigation, le manque de drainage efficace, et la conduite des irrigations de manière empirique qui exacerbe le problème.', 'corpus_107': \"La disponibilité des ressources en eau et l'épuisement des nappes est déjà la résultante des dérèglement climatique\\u202f: de ce fait il est estimé que le long cycle de sécheresse a eu un impact sur les potentialités en eau superficielle du nord du pays avec une baisse tendancielle : 6,5 milliards de m3 /an à la fin des années 70 , 5 milliards de m3 /an dans les années 80 et 4 milliards de m3 /an dans les années 2000.\", 'corpus_108': 'Les Disponibilités et l’utilisation des semences et ressources génétiques\\u202f: qui sont peu diversifiées à l’image des semences de céréales dont 80% des quantités sont dominés par une dizaine de variétés de blé dur et blé tendre et celle de la filière pomme de concentrée sur deux ou trois variétés principales.', 'corpus_109': 'Disponibilités et utilisation des engrais et pesticides\\u202f: La consommation d’engrais a atteint un ratio de 137,4 kg/ha en moyenne au niveau mondial durant la période (2015-2018) n’est que de 21,5 kg/ha en Algérie. Ce niveau d’apport global de fertilisants ne répond pas aux besoins des cultures et peut conduire à une aggravation de l’appauvrissement des sols en éléments nutritifs. L’agriculture en Algérie ne consomme qu’une part très faible de la production d’engrais 14% Selon les données de la FAO, l’Algérie a utilisé plus de 5.400 tonnes de pesticides au cours de la période 2016-2018 contre près de 2.800 tonnes en 1995-99 . Pour la période 2016-2019 plus de 14.400 tonnes de produits phytosanitaires ont été importés pour une valeur moyenne de 94 millions de dollars.', 'corpus_110': 'Santé des élevages\\u202f: Les risques d’épizooties sont importants au niveau de la sous-région. Il s’agit de la Fièvre Aphteuse (FA), la Fièvre de la Vallée du Rift (FVR), la Peste des Petits Ruminants (PPR), l’Influenza Aviaire Hautement Pathogène (IAHP), la Rage, la Fièvre Catarrhale Ovine ou Blue Tongue (BT), la fièvre du Nil Occidental et la Brucellose.', 'corpus_111': 'Les circuits de commercialisation et de distribution\\u202f:Un certain nombre de faiblesses structurelles des systèmes de commercialisation de produits agricoles en Algérie sont à retenir : Atomisation de l’offre agricole sous l’effet de la démultiplication des petites exploitations agricoles et du déclin du tissu coopératif. La production nationale des céréales, du lait, des fruits et légumes est hétérogène, non standardisée, variable sur le plan quantitatif. Les importations de produits agricoles et agro-alimentaires se sont accrues considérablement. Ces produits sont principalement écoulés dans des circuits formels (importateurs- grossistes- détaillants et superettes) soit en l’état soit dans un circuit plus long comprenant les transformateurs (les minotiers, les laiteries, les huileries, les conserveries …). Les coûts de commercialisation de la production nationale (fruits et légumes, viandes) sont jugés trop importants en rapport avec la valeur ajoutée apportée par les différents intervenants (collecte, stockage, transport, conditionnement, distribution). Les produits agricoles issus de la production locale sont peu homogènes et substituables. Les marchés agricoles ne sont pas efficaces (volatile, instable) et l’organisation des différents maillons ne permet pas de lisser les variations cycliques. Enfin , le caractère informel des circuits de commercialisation limite fortement les possibilités de modernisation, de développement technologique, d’amélioration de la productivité, de gestion des risques,  des différents acteurs et maillons les composants.', 'corpus_112': \"La faible intégration de l'agriculture de subsistance\\u202f: En Algérie, cette agriculture de subsistance se trouve insérée dans les différents types de systèmes agraires particulièrement ceux concernant l’agriculture de Montagne et l’agriculture Oasienne . Selon les données du RGA les exploitations inférieures à 01 hectares sont au nombre de 167.000.\", 'corpus_113': 'Etat d’exploitation des stocks de ressources halieutiques\\u202f: Les données sur l’exploitation des ressources halieutiques mises en exergue dans le rapport FAO relatif à la situation des pêches en Méditerranée et en mer Noire 2020 indiquent que 75 pour cent des stocks évalués étaient toujours surexploités. L’évolution des biomasses des petits pélagiques le long de la côte algérienne\\u202fa montré des fluctuations interannuelles avec une tendance à la baisse. La biomasse semble diminuer rapidement pour atteindre 30 000 T en 2020 soit le 1/3 de la biomasse de départ (45.000 T en 2019). Cette tendance pourrait continuer à baisser pour se situer à 10.000 T,  6.400 T et à 3.855 T respectivement en 2022, 2025 et 2030. Les productions respectives seraient alors 9.400 T, 6.500 T et 3.855 T.', 'corpus_114': \"Les changements climatiques et les impacts enregistrés et à venir sur la biodiversité terrestre et marine\\u202f: Selon le GIEC, la Méditerranée constitue à la fois une des régions les plus riches en biodiversité, en tant que hot spot d’espèces endémiques, mais aussi une des régions les plus vulnérables au changement climatique. Le coût du changement climatique en Algérie pourrait atteindre entre 1,3% et 4,3% du PIB de 2009 (horizon 2030). Des milliers de petits pêcheurs et aquaculteurs Algériens, majoritaires dans la population des professionnels, sont et seront, les plus durement touchés par les effets du changement climatique. La baisse de la production de capture, depuis déjà une décennie, et celle à venir ont un effet direct sur les revenus et la survie de la pêche artisanale et des familles de pêcheurs en Algérie. De plus, ces projections sont susceptibles de provoquer de nouveaux conflits ou d’exacerber ceux existants sur l’exploitation de la ressource halieutique, entre les différentes pêcheries. L’aquaculture sera aussi durement touchée quand les incidences du changement climatique affectent négativement la disponibilité de farine et d’huile de poisson. De plus, il est à relever que l'une des principales menaces de la diversité endémique du bassin Méditerranéen est la recrudescence des invasions biologiques. Le nombre et le taux d'espèces non indigènes présentes en Méditerranée ont tous deux fortement augmenté ces dernières années : environ 1000 espèces non indigènes ont été identifiées.\", 'corpus_115': \"Les enjeux du développement de l'aquaculture durable\\u202f: L’ aquaculture durable doit s’appuyer sur les éléments stratégiques suivants\\u202f: concevoir de manière participative, une stratégie reconnaissant la place de l’aquaculture dans l’occupation du territoire, y compris maritime (au plan national, local et au plan des différents niveaux intermédiaires) ; promouvoir les principes de précaution et de préservation de environnement via des outils de gestion adaptés, notamment les études et le suivi des impacts environnementaux de l’aquaculture, ainsi que le suivi des milieux littoraux ; diversifier les productions tant au plan des espèces destinées à l’alimentation (algoculture, conchyliculture, poissons et leurs produits transformés comme les plats préparés, filets, …) que des produits dérivés (cosmétiques ou industrie pharmacologique).\", 'corpus_116': 'Les chaines de valeur halieutiques\\u202fà intégrer doit favoriser les facteurs clés de succès pour à travers une traçabilité optimale, une maîtrise de la chaine du froid, la régularité de l’offre, une constance des critères de qualité, une stabilité des prix, une adéquation produit/marché.', 'corpus_117': 'La nécessaire intégration de la pêche artisanale\\u202f:  L’importance de la pêche artisanale en Algérie peut être appréciée à travers quatre indicateurs principaux (résultats de l’enquête nationale sur la pêche artisanale) : Une flottille estimée à plus de 10 000 embarcations (navires des petits métiers, immatriculés ou non, et plaisanciers) ; plus de 20 000 emplois directs ; Un moyen d’existence directe pour plus de 80.000 habitants, et indirecte pour plus de 24.000 habitants soit 104.000 au total ; un chiffre d’affaires annuel estimé à plus de 10 milliards de dinars algériens. Pour 92 % de ces pêcheurs, la pêche est leur seul moyen d’existence et constitue une source importante d’approvisionnement en protéine animale.', 'corpus_118': 'La fragilité d’une économie maritime non intégrée\\u202f: les mers et les océans du monde ont une valeur économique de 24.000 milliards de dollars US, apportent plus de 2.500 milliards de dollars de valeur ajoutée à l’économie mondiale, soit près de 3% du PIB mondial. Ils constituent aussi un puits de carbone pour près de 30%. Avec 72 % de la surface de notre planète, les mers et les océans contribuent directement à la sécurité alimentaire dans le monde et offrent des opportunités pour le développement économique. Conformément à la vision et aux engagements internationaux et nationaux sur les volets social, environnemental et économique, les 11 enjeux/axes stratégiques définis par la stratégie nationale de l’économie bleue «\\u202fSNEB\\u202f» doivent être mis en œuvre rapidement.', 'corpus_119': \"L’Algérie se classe au 121ème rang en 2020 sur 131 pays contre la 113ème place en 2019 et la 110ème en 2018. Par ailleurs , l'Algérie se classe au 37e rang parmi les 37 économies du groupe à revenu intermédiaire supérieur et au 18ème rang parmi les 19 économies de la région Afrique du nord et de l’Asie de l’ouest.\", 'corpus_120': \"L'Algérie obtient de meilleurs résultats en intrants d'innovation qu'en extrants d'innovation en 2020. Cette année, l'Algérie se classe au 111e rang des intrants d'innovation, inférieur à celui de l'année dernière et inférieur à celui de 2018. En ce qui concerne les produits d'innovation, l'Algérie se classe 126e. Cette position est inférieure à celle de l'année dernière et inférieure par rapport à 2018. Par rapport au PIB, l'Algérie affiche des performances inférieures aux attentes et à la mesure de son niveau de développement. Ainsi , l'Algérie produit moins de produits d'innovation par rapport à son niveau d'investissements dans l'innovation. Elle obtient les meilleurs résultats dans le capital humain et la recherche et sa performance la plus faible est dans la dimension du marché.\", 'corpus_121': \"Les atouts du SI pour l'Algérie se trouvent dans\\u202f: les investissements dans le capital humain et la recherche (inscription dans l'enseignement supérieur , les diplômés en sciences et ingénierie , et les dépenses Bruts de R&D )\\u202f; les Infrastructure (Infrastructure générale , Formation brute de capital)\\u202f; la Sophistication du marché (échelle du marché domestique)\\u202f; la Sophistication de l'entreprise (développement cluster et Importations de haute technologie\\u202f; les Produits créatifs (Dessins et modèles industriels par origine ). Les atouts identifiés à une échelle globale sont renforcés\\u202f: par l’intérêt des acteurs de l’aval de la chaine de valeur\\u202f; une dynamique amorcée de porter les innovations ; une distribution à différentes échelles d’offre de l’innovation\\u202f; des sources d’innovations multiples et non attendues.\", 'corpus_122': \"Les faiblesses SI pour l'Algérie sont constatées dans\\u202f: Les Institutions (Qualité de la réglementation )\\u202f; le Capital humain & ( mathématiques et science, entreprises mondiales de R&D , classement des universités )\\u202f; la Sophistication du marché (Crédit ,  Investissement et dans les indicateurs Facilité d'obtention de crédit, Facilité de protection des investisseurs minoritaires et Marché )\\u202f; Résultats des connaissances et de la technologie (Diffusion des connaissances et Dépenses en logiciels informatiques )\\u202f; Résultats créatifs (Valeur globale de la marque et Application mobile création). Ces faiblesses s’expliquent par les acteurs à travers\\u202f: une perception restrictive de l’innovation ; un manque de connaissance des initiatives en cours sur le développement de l’innovation\\u202f; une interactivité faible et orientée plutôt vers l’amont de la chaine de valeur de l’innovation\\u202f; la faiblesse des extrants\\u202f; un environnement peu incitatif et innovant\\u202f; des instruments d’accompagnement et de concrétisation des projets limités\\u202f; la défaillance de l’action des acteurs institutionnels; des offres de formation en management de l’innovation en entreprises limitées\\u202f; la faiblesse de la communication institutionnelle à l’adresse des managers des entreprises ; l’absence d’organisation spécifique formelle au sein des entreprises à un niveau élevé, et des opérateurs économiques qui entretiennent peu de relation avec les acteurs de la RSTD.\", 'corpus_123': \"Les résultats essentielles qui se dégagent des différents travaux relatifs à cette question sont de trois types\\u202f: Les premiers concernent particulièrement les évaluations d’impact des deux politiques et programmes pris en compte\\u202f: politique agricole et rural, politique halieutique et de l’analyse du bilan de la recherche scientifique et du développement technologique et de l’innovation. Les seconds sont relatifs à l'évaluation «\\u202fex-post\\u202f» de l'impact des soutiens sur la croissance agricole par la modélisation et l’analyse comparative des niveaux de soutien avec les pays de l’Ocde et de l’UE. Les troisièmes ont permis la mise en lumière des enjeux stratégiques prospectifs et du socle stratégique pour l’agriculture , la pêche et le système de développement technologique et de l’innovation.\", 'corpus_124': 'En matière de  «\\u202fconception et formulation des plans et programmes\\u202f» les constats suivants ont été relevés : Une forte sensibilité au contexte global ; l’approfondissement relatif de la stratégie agricole post ajustement structurel ; une planification mal maitrisée\\u202f; la transition du développement de l’amont agricole à celui des chaines de valeur et des territoires\\u202f; la recherche de la révolution verte et la réhabilitation à la marge des agricultures de subsistance et du développement durable\\u202f; la mise en œuvre d’une doctrine agronomique simplificatrice et l’absolutisme du présent\\u202f; la sécurité alimentaire et la réémergence du souverainisme alimentaire\\u202f; les difficultés de la mesure des objectifs\\u202f; l’instabilité des orientations et la «\\u202fparticipation limitée\\u202f»\\u202fdes acteurs.', 'corpus_125': 'En ce qui concerne la dimension de «\\u202fmise en œuvre\\u202f» de la politique agricole et rurale, les enseignements suivants sont à retenir\\u202f: Le foncier «\\u202fTalon d’Achille\\u202f» de la politique\\u202f; la variabilité de l’architecture des plans\\u202f; la juxtaposition et complexité des instruments de financement , l’évolution du soutien à l’investissement dans les exploitations agricoles au soutien à la production agricole\\u202f; la prééminence d’un système de diffusion des innovation linéaire défaillant et dépassé\\u202f; la mise en place d’un système de suivi évaluation innovant\\u202f; l’absence de l’évaluation d’impact.', 'corpus_126': \"L'évaluation de la politique de soutien agricole et rurale réalisée est de type\\u202f «\\u202févaluation de politique publique récapitulative\\u202f» qui a pour but d'aboutir à une appréciation globale ex-post sur la période considérée. Elle a été réalisée à travers l’appréciation des 05 dimensions ci-après.\", 'corpus_127': 'L’évaluation positive de la PERTINENCE de la politique agricole et rurale en Algérie\\u202f: Ainsi,  Il a été noté une correspondance forte à moyenne pour 65% des cas et une faible correspondance pour le reste (objectifs/problèmes). De manière globale, les objectifs retenus par la politique agricole et rural correspondent bien aux problématiques du développement agricole et rural. En conséquence, la politique menée au cours de la période étudiée est jugée pertinente. Il faut tout de même relever une forme de discontinuité et de partialité des objectifs affichés si l’on prend en considération la totalité de la période évaluée  (exemple de la dimension rurale réellement effective et opérationnelle entre 2006-2014).', 'corpus_128': \"l’évaluation moyenne de l’EFFICACITE de la politique agricole et rurale en Algérie\\u202f: car il est constaté que près de 60% des objectifs spécifiques ont été atteints , 11% faiblement réalisés et 30% dont la réalisation est très faible en comparaison avec les objectifs ciblés. Par ailleurs, il est à souligner que certains objectifs spécifiques ne pas sont évaluables ex-post car ils n'ont pas été chiffrés au départ dans la programmation et/ou n’ont pas fait l’objet d’une description de leur contenu qualitatif.\", 'corpus_129': \"l’évaluation satisfaisante de l’EFFICIENCE de la politique agricole et rurale en Algérie\\u202f: au regard de ses résultats par rapport aux coûts engendrés (valeur de la production,  production agricole en volume, productivité de la terre productivité du travail, exportation en valeur) . L'efficience est en revanche «\\u202fmoyenne\\u202f» pour le taux de croissance de la valeur ajoutée rapportée au coût du budget global. C’est le cas aussi de la productivité de la terre par rapport au coût de soutien du développement. Néanmoins, l'efficience est «\\u202ffaible\\u202f» concernant\\u202f: le multiplicateur du taux de croissance de la valeur ajoutée agricole rapporté au coût du soutien; la production agricole en volume toujours en rapport avec le multiplicateur du coût du soutien; enfin les importations ont été multipliées par 03 au cours de cette période d’évaluation.\", 'corpus_130': 'l’évaluation satisfaisante de l’IMPACT de la politique agricole et rurale en Algérie\\u202f: Au final , la politique agricole et rural est jugée efficace pour les objectifs globaux (1\\u202f; 2\\u202f; 4\\u202f; 5\\u202f; 6 et 7) , moyennement efficace pour l’objectif global 8 et inefficace pour les objectifs globaux 3 et 8.', 'corpus_131': \"A l’instar, de l’évaluation réalisée de la politique agricole et rurale celle de la politique de soutien halieutique est aussi de type\\u202f «\\u202févaluation de politique publique récapitulative\\u202f» permettant d'aboutir à une appréciation globale ex-post sur la période considérée. Elle a été réalisée à travers l’appréciation des 05 dimensions ci-après.\", 'corpus_132': 'L’évaluation positive de la PERTINENCE de la politique halieutique en Algérie\\u202f: en raison d’une correspondance forte à moyenne (objectifs/problèmes) pour 80% des cas et une faible correspondance pour le reste. Les objectifs retenus par la politique halieutique correspondent bien aux problématiques développement de la pêche et de l’aquaculture. En conséquence, la politique menée au cours de la période étudiée est appréciée comme pertinente.', 'corpus_133': \"L’évaluation moyenne de l’EFFICACITE de la politique halieutique en Algérie\\u202f: car il est constaté que seulement 54% des objectifs spécifiques ont été atteints, 08% faiblement réalisés et 38% dont la réalisation est très faible en comparaison avec les objectifs ciblés. Les objectifs aboutis ne représentent que 35 % des objectifs spécifiques identifiés. Par ailleurs, il est à souligner que certains objectifs spécifiques n’ont pu être évalués ex-post car ils n'ont pas été chiffrés au départ dans la programmation et n’ont pas fait l’objet d’une description de leur contenu qualitatif.\", 'corpus_134': \"L’évaluation insuffisante de l’EFFICIENCE de la politique halieutique en Algérie\\u202f: A ce titre, il a été relevé : La stagnation de la production en volume (quasi équivalente de la décennie 90) alors que le soutien en faveur du secteur (15,4 Milliards de dinars) s'est développé en comparaison avec la période de référence (inexistence de soutien directe aux pêcheurs)\\u202f; la productivité de la flottille a baissé de 49,4 Tonnes /unités\\u202f; la valeur des importations a été multipliée par 8,5 malgré le soutien conséquent accordé à la pêche et l’aquaculture.\", 'corpus_135': 'L’évaluation faible de l’IMPACT de la politique halieutique en Algérie\\u202f: la politique halieutique est jugée faible dans ses impacts sur les objectifs globaux (1\\u202f; 2\\u202f; 3\\u202f; 6\\u202f) et seulement efficace pour les objectifs globaux 4 et 5. Jusqu’en 2018, les impacts positifs de la politique halieutique l’ont été plutôt pour les dimensions d’ordre social et local ouvrant des opportunités de création de richesse et d’emplois dans les zones du littoral et continentale.', 'corpus_136': 'La politique de l’innovation et du développement technologique est récente et est en cours de construction. Au cours des deux dernières décennies les questions de développement technologique et d’innovation ont été assimilés comme des prolongements naturels et «\\u202fmécanique\\u202f» de la politique de recherche développement animée dans sa mise en œuvre par le Ministère de l’enseignement supérieur et de la recherche scientifique. Par conséquent, il n’a pas été possible de réaliser la même démarche d’évaluation que celle réalisée pour les politiques de soutien à l’agriculture et au secteur halieutique. Cependant, une analyse des bilans de la politique de la RSDT et des premiers résultats des activités du Ministère dédié à l’innovation et l’économie de la connaissance  (2000) a été mis en exergue.', 'corpus_137': \"S’agissant des premiers éléments de bilan de la politique d’innovation en construction sous l’impulsion du nouveau Ministère de l’économie de la connaissance et des startups (2020-2021) il est à signaler\\u202f:  La création d’un fonds d’investissements dédié aux Startups, créé par apport des banques publiques, ayant libéré 600 millions de DA pour 2020 ; les mesures fiscales et parafiscales pour l’encouragement des startups ; la mise en place du cadre juridique régissant les startups par la création du comité de labellisation des startups ; des projets innovants et incubateurs ; l’inauguration du premier accélérateur public des startups (Algeria Venture) avec une connexion à un réseau de 1.000 investisseurs dans le monde ; la mise en place de plusieurs incubateurs\\u202f; l'élaboration d'une cartographie d'acteurs de l'écosystème national et local de la startup\\u202f; le financement de plus de 60 startups via ASF (Algerian Startup Fund).\", 'corpus_138': \"Les résultats du modèle utilisé, à régression linéaire multiple, dans l'évaluation de l'impact ex-post, démontre bien l'effet positif de ces soutiens à la production sur la valeur ajoutée agricole en Algérie. Cet impact reste significatif puisque l'effet retour des subventions est mesuré pour la période 2000-2018 à près de 1,3. A ce titre, l'on peut soutenir qu'au cours de ces deux dernières décennies les mesures de soutien mises en œuvre dans le cadre de la politique agricole en Algérie ont permis de catalyser la croissance globale du secteur agricole et même le poids du secteur en part du PIB qui a continué à croitre malgré une évolution significative de la croissance du secteur des hydrocarbures et des services.\", 'corpus_139': \"Cette évolution des agrégats sectoriels peut masquer en revanche des évolutions hétérogènes et différenciés des différentes filières de production agricole. Par ailleurs, elle ne permet pas de différencier les effets des autres mesures de politiques agricoles (non financières) et des politiques macro-économiques (non agricoles) sur la croissance de la valeur ajoutée agricole. Si l'évaluation par le modèle utilisé nous permet d’évaluer l'efficacité de la politique agricole menée sur la période (2000-2018) par rapport à l'objectif de catalyser la croissance agricole, par contre elle ne permet pas de mesurer l'efficience des différentes mesures de soutien entre elles : soutiens aux intrants, prix garantis aux producteurs ...etc.\", 'corpus_140': \"Par ailleurs, cette analyse de l'impact expost doit être complétée par : L’évaluation des impacts par rapport au scénario contrefactuel de l'inexistence de ces mesures ; une analyse comparative avec des économies agricoles similaires ; l’analyse des effets sur les facteurs structurels du renforcement de la sécurité alimentaire.\", 'corpus_141': \"Ces premiers résultats ouvrent la voie à d'autres études relatives à l'efficacité de ces subventions à analyser à l'échelle des différentes filières ciblées ; mais aussi sur le plan macro-économique tant sur le plan de l'allocation des ressources publiques que sur leur coût d'opportunité par rapport à d'autres secteurs de l'économie. Enfin, l'existence de cette corrélation forte entre croissance agricole et soutiens publics pose la problématique à l'avenir de la capacité future des pouvoirs publics à soutenir ce modèle de croissance agricole en Algérie avec des ressources publiques de plus en plus rares et de cette double nécessité d'assurer l'efficacité et l'efficience des interventions publiques.\", 'corpus_142': 'En définitive, au-delà de la problématique « intra-muros » du financement public des soutiens à l’agriculture et de leur efficacité en Algérie, la comparaison abordée dans cette partie nous aura permis de :', 'corpus_143': 'Relativiser les efforts réalisés ces deux dernières décennies en matière de soutien de l’agriculture en Algérie et de les ramener à leur juste « mesure » par rapport aux pays émergents, de l’OCDE et de l’UE. Le taux de soutien à l’agriculture (par rapport à la valeur de la production ) est nettement supérieur à celui de l’Algérie pour les pays de l’OCDE 4,2 fois ; l’UE 4,5 fois ; Emergents 1,7 fois.', 'corpus_144': 'Considérer que les soutiens, malgré leur réduction dans les pays grands producteurs continuent à façonner la compétitivité de ces économies agricoles (en sus de l’effet d’accumulation des soutiens, sur plusieurs décennies pour certaines d’entre elles, antérieur aux réformes) de manière directe et indirecte. Le soutien annuel moyen aux producteurs (2018-20) a culminé à 240 milliards USD pour l’OCDE et 92,5 milliards USD pour l’UE et les soutiens cumulés aux producteurs (2000-2020) à 4.230,4 Milliards de USD (OCDE) et 2.007 Milliards de USD (UE).', 'corpus_145': 'Souligner que la réduction des importations de blés, de lait est conditionnée (filières régulièrement dans le TOP 10 des importations Algériennes) par des actions permettant de réduire l’écart encore important en matière de soutien et de productivité avec les pays de l’UE et de l’OCDE. Le soutien spécifique aux producteurs (TSP) du blé a été en moyenne (2017-2019) de 1,46 Milliards USD pour l’UE et 3,14 Milliards USD pour l’OCDE. La productivité à l’hectares des blés (2018-20) est de 41,2 Qx/ha pour l’UE et 39 Qx/ha contre 16,73 Qx en Algérie. La production de lait s’élève à 5.400 kg/ animal dans l’UE, 4.848 kg/ animal pour l’Ocde contre 2.609 Kg/animal.', 'corpus_146': 'Noter que le double objectif de la politique agricole de substitution à l’importation par la production nationale et de montée en puissance des exportations (sécurité alimentaire) restent aussi dépendant de la réalité et de l’évolution future du différentiel de soutien avec les pays exportateurs et les principaux fournisseurs de l’Algérie.', 'corpus_147': 'Elle aura permis de formuler des orientations stratégiques à l’horizons 2022 et surtout de démontrer l’utilité de l’utilisation des méthodes et outils de la prospective pour rendre intelligible la complexité de cette pandémie et de ses effets systémiques et surtout d’identifier les actions d’anticipation à court terme afin d’en réduire les effets.', 'corpus_148': 'Aussi, l’évaluation a posteriori (01 année plus tard) tout en confirmant une partie des hypothèses formulées et de la justesse des orientations stratégiques d’actions proposées a montré l’amplitude des incertitudes encore présentes pour cette pandémie : Une pandémie au niveau mondial encore mal maitrisée. Des variants imprévisibles et nombreux. L’efficacité des vaccins qui sont arrivés plus tôt que prévu. Le Covid-19 et ses implications sur la croissance mondiale te l’emploi. Les prix des marchés internationaux qui repartent à la hausse et ses effets sur la sécurité alimentaire des pays importateurs nets. Le Post Covid-19 et les incertitudes pesantes sur la relance de l’économie mondiale.', 'corpus_149': 'Il est noté, tout de même, la pertinence des scénarios de la prospective à court terme de la sécurité alimentaire en Algérie formulés en 2020. A postériori, les scénarii formulés et exposés précédemment en pleine pandémie, particulièrement les scénarii 03 et 04 ont bien pris en compte cette trajectoire encore incertaine entre une sécurité alimentaire tendancielle et la vulnérabilité externe.', 'corpus_150': 'Ainsi, un certain nombre d’hypothèses du scénario 3 ont été confirmées jusqu’ici à savoir : L’impact limité sur la sécurité alimentaire en Algérie de la crise du COVID 19 (chaines d’approvisionnement stables, marchés bien approvisionnés, importations alimentaires maitrisées et reconstitution des stocks) ; L’effet de l’existence de stocks publics et privés importants constitués avant la pandémie au 1er trimestre 2020 en produits de base (céréales, poudre de lait, pomme de terre, viandes…) qui ont servi d’amortisseur au ralentissement des approvisionnements externes. Les mesures prises par le gouvernement, pendant la période de confinement, de sauvegarde des chaines d’approvisionnement alimentaire et de poursuite des activités agricoles, halieutiques et de transformation ont permis au système alimentaire Algérien de répondre aux besoins alimentaires de la population et d’éviter les pénuries (hormis la tension au mois d’Avril sur la semoule) et un accroissement des prix internes (inflation importée pour le maïs et les oléagineux).', 'corpus_151': 'Les hypothèses du scénario 4 confirment que les incertitudes et les risques d’instabilité sont encore présents et qu’ils vont perdurer dans le temps. Enfin, il est à souligner surtout que les 08 orientations stratégiques qui ont été proposées restent d’actualité afin de mettre en œuvre la stratégie covid-19 en matière de sécurité alimentaire (résilience du SANA).', 'corpus_152': 'Elle a été l’occasion d’effectuer une démarche complète de prospective exploratoire sur le sujet de la sécurité alimentaire en Algérie à l’horizon 2050, d’une part, et de prospective stratégique à 2035 en matière de réorientation des politiques de soutien aux systèmes productifs agricole et halieutique et du STI, d’autre part.', 'corpus_153': 'Afin de réaliser ce travail il a été fait recours à de nombreuses méthodes et outils éprouvés en la matière : Les méthodes DEGEST, SWOT-prospectif, MACTOR, les outils d’évaluation en prospective stratégique (Analyse de Robustesse, Flexibilité …etc.).', 'corpus_154': 'La méthode DEGEST a facilité la formulation de quatre scenarii prospectifs de l’environnement global de la sécurité alimentaire en Algérie à 2050 et qui ont abouti à la formulation des 35 mesures sans regrets dont 12 ont été jugées prioritaires dont celles relatives à : La protection des terres agricoles, La mise en place de la politique de l’innovation pour la sécurité alimentaire, La réorientation des subventions à la production, L’amélioration de la résilience des systèmes productifs locaux aux changements climatiques, La facilitation et simplification administrative pour les opérateurs et les entreprises, L’accompagnement de la transition des modèles agricole et halieutique, L’économie de l’eau et le développement de nouvelles technologies de dessalement, …etc.', 'corpus_155': 'La méthode MACTOR appliquée au secteur de la pêche toujours par rapport à la thématique centrale de la sécurité alimentaire a rendu intelligible : (i) La pluralité des acteurs et des objectifs (ii) Leurs positionnements stratégiques différenciés (iii) La nature et le poids de leurs influences dans le processus d’amélioration de la sécurité alimentaire par le développement du système productif halieutique en Algérie. Ces résultats sont précieux à plusieurs égards car : Ils améliorent notre connaissance systémique du fonctionnement du système productif halieutique résultat aussi du comportement et des intérêts des différents acteurs qui le composent. Ils précisent présentement le poids, les influences et les convergences/ divergences des différents acteurs entre eux et par rapport aux objectifs déglobalisés de la sécurité alimentaire mais aussi dans le futur. Ils renforcent la prospective de la formulation des changements de politiques en offrant une capacité de simulation du comportement stratégique des acteurs face aux évolutions possibles.', 'corpus_156': 'Analyse en prospective stratégique par l’évaluation Sensibilité-Robustesse- Flexibilité- Pertinence fait ressortir trois modèles alternatifs stratégiques qui présentent les meilleures aptitudes à savoir :', 'corpus_157': \"Modèle de l’Intensification Durable Innovante et Inclusive (MID-Inov) qui est un modèle de rupture impliquant un changement de paradigme du modèle productif agricole actuel dominant ou référent de la politique de soutien à ce secteur. Il est basé lui sur l'innovation endogène inclusive et orienté vers l'intensification durable et privilégie le soutien et l’accompagnement des exploitations et entreprises familiales moyennes résilientes et insérées dans des chaînes de valeur intégrées et territorialisées.\", 'corpus_158': \"Le Modèle de la pêche responsable et l'aquaculture durable (MPRAD-Inov) constitue lui aussi un modèle de rupture impliquant un changement de paradigme du système d’exploitation et de production halieutique. Il est basé sur l'innovation endogène inclusive et orienté vers la pêche responsable et l’aquaculture durable.\", 'corpus_159': \"Le SI endogène 'SI-Endog' impliquant un changement de paradigme du modèle de développement technologique et d’innovation induisant l’inclusivité, l’interactivité et orienté vers la sécurité alimentaire durable.\", 'corpus_160': 'Qu’il s’agisse du secteur de l’agriculture, des production halieutiques ou de celui de la RSTD-I, il a bien été démontré respectivement que les alternatives MID-Inov et MPRAD-Inov et SI-Endog sont évaluées comme les alternatives stratégiques réunissant, face aux scénarios et enjeux prospectifs identifiés (de la sécurité alimentaire à 2050), les meilleures aptitudes de : Robustesse, Flexibilité, Pertinence et de Sensibilité (cf. section 6.5.). C’est pour cette raison que les orientations stratégiques formulées concerneront principalement l’accompagnement de leur mise en place par des politiques de soutiens profondément réformées et réajustées. Sur la base des trois modèles sus cités 40 nouvelles orientations stratégiques ont été formulées pour les trois secteurs sur la base des différents travaux et de leurs résultats exposés dans les précédents sections et chapitres.', 'corpus_161': \"Orientations stratégiques de la politique agricole et rurale à 2035 axées sur (cf. section 6.6.1.): Une politique de soutien ciblée à l’alimentation. Des agriculteurs et des opérateurs d’amont et d’aval au cœur de la dynamique du système productif agricole. La priorité à donner au modèle de l’exploitation familiale moyenne et le renforcement de la dynamique du couple exploitant – exploitation. Une politique de soutien orientée vers les actions et pratiques d’intensification durable et inclusive. La promotion de systèmes productifs innovants et résilients aux changements climatiques. La stabilisation relative des importations et l’amélioration de l’équilibre de la balance commerciale agricole et agro-alimentaire. L’endogénéisation et généralisation de la durabilité environnementale et de la rationalisation dans l’utilisation des ressources. La mise en place du système d'innovation pour la sécurité alimentaire durable. La priorisation de la Formation technique pratique et l’Apprentissage. L’inclusion financière et la fiscalisation raisonnée du secteur agricole. La réforme de l'encadrement administratif de l'investissement. L’intégration des chaines de valeur agricole territorialisées. La modernisation adaptée des circuits de commercialisation. Le développement des capacités de recherche scientifique et de développement technologique RSDT, à l’amont de chaine de valeur de l’innovation. Les interactions et des innovations institutionnelles et organisationnelles majeures.\", 'corpus_162': \"Orientations stratégiques de la politique halieutique à 2035 articulées sur (cf. section 6.6.2.): Des acteurs des filières de la pêche et de l’aquaculture au centre de la transition halieutique. La stabilité et la cohérence de l’architecture organisationnelle et institutionnelle du secteur. La stabilisation des revenus et l’amélioration de la protection sociale des gens de mer et des professionnels de l’aquaculture. La priorité au modèle de l’entreprise de pêche familiale moyenne et de la PME aquacole intensive. Les mesures de soutien aux nouvelles activités et pratiques de la pêche responsable et à l’aquaculture durable orientée vers la sécurité alimentaire durable. La promotion de systèmes productifs halieutiques innovants et résilients aux changements climatiques. La transition vers le modèle productif de la pêche responsable. La promotion de l’investissement privé dans la pêche au large et l’exploitation de nouvelles zones de pêche. La relance et la modernisation de l'industrie halieutique nationale. L’investissement dans l’aquaculture durable. La contribution à la mise en place du système d'innovation pour la sécurité alimentaire durable. Un système de formation professionnel et universitaire spécifique. La modernisation des circuits de commercialisation des produits halieutiques. La promotion de l’économie bleue et la gestion intégrée des activités économique et des zones marines et côtières.\", 'corpus_163': \"Orientations stratégiques du SNI à 2035 présentées sont dirigées vers (cf. section 6.6.3.): La Mise en place opérationnelle et durable de la politique d'innovation endogène et la structuration de la chaine de valeur de l'innovation (pipeline). Le développement d’un système d’innovation orientée vers la sécurité alimentaire durable SI-SAD. Le Soutien et incitations des acteurs émergents dans la chaine d'innovation. L’incitation à la production de savoirs, technologies et innovations adaptés à la durabilité des ressources et l’atténuation et à la résilience aux changements climatiques. Le Développement modes d’organisation et de management innovants. Les innovations dans la valorisation à grande échelle de nouvelles ressources biologiques et ressources non conventionnelles. La mise en œuvre d’un programme permanent de RD-I à fort outputs en brevets technologiques et en innovations potentielles orientées vers la sécurité alimentaire durable. L’investissement dans les innovations technologiques et institutionnelles accompagnant l’émergence de modèles productifs agricole et halieutique intensifs et durables. L’intégration technologique des systèmes productifs locaux aux IAA. Des innovations « de et pour » les consom’acteurs. L’amélioration de la formulation, du suivi des programmes sectoriels et de la politique transversale de sécurité alimentaire durable.\", 'corpus_164': 'Enfin, une dimension transversale celle d’une nouvelle politique de la sécurité alimentaire à mettre en place à une échelle intersectorielle est proposée. Pour cette dernière nous nous sommes spécialement appuyés sur les expériences internationales reconnues en la matière et les références juridiques du droit international existant pour le « droit à l’alimentation ». Elle traduit une orientation stratégique globale celle de la nécessaire coordination et appariement des politiques publiques orientées vers la sécurité alimentaire durable (Agriculture et développement rural, productions halieutiques, ressources en eau, IAA, santé alimentation et nutrition, commerce).', 'corpus_165': 'Elle prend son ancrage dans une loi-cadre nationale sur le droit à l’alimentation permettant d’établir les mécanismes institutionnels nécessaires (Conseil national de la sécurité alimentaire) et fournir une base juridique pour les lois subsidiaires et constituer une référence à la révision des lois sectorielles (Agriculture, pêche, IAA, ressources en eau…etc). De telles lois pourraient prévoir des institutions spécifiques de contrôle chargées d’évaluer en permanence les progrès réalisés en matière de sécurité alimentaire durable.'}, relevant_docs={'query_0': ['corpus_0'], 'query_1': ['corpus_1'], 'query_2': ['corpus_2'], 'query_3': ['corpus_3'], 'query_4': ['corpus_4'], 'query_5': ['corpus_5'], 'query_6': ['corpus_6'], 'query_7': ['corpus_7'], 'query_8': ['corpus_8'], 'query_9': ['corpus_9'], 'query_10': ['corpus_10'], 'query_11': ['corpus_11'], 'query_12': ['corpus_12'], 'query_13': ['corpus_13'], 'query_14': ['corpus_14'], 'query_15': ['corpus_15'], 'query_16': ['corpus_16'], 'query_17': ['corpus_17'], 'query_18': ['corpus_18'], 'query_19': ['corpus_19'], 'query_20': ['corpus_20'], 'query_21': ['corpus_21'], 'query_22': ['corpus_22'], 'query_23': ['corpus_23'], 'query_24': ['corpus_24'], 'query_25': ['corpus_25'], 'query_26': ['corpus_26'], 'query_27': ['corpus_27'], 'query_28': ['corpus_28'], 'query_29': ['corpus_29'], 'query_30': ['corpus_30'], 'query_31': ['corpus_31'], 'query_32': ['corpus_32'], 'query_33': ['corpus_33'], 'query_34': ['corpus_34'], 'query_35': ['corpus_35'], 'query_36': ['corpus_36'], 'query_37': ['corpus_37'], 'query_38': ['corpus_38'], 'query_39': ['corpus_39'], 'query_40': ['corpus_40'], 'query_41': ['corpus_41'], 'query_42': ['corpus_42'], 'query_43': ['corpus_43'], 'query_44': ['corpus_44'], 'query_45': ['corpus_45'], 'query_46': ['corpus_46'], 'query_47': ['corpus_47'], 'query_48': ['corpus_48'], 'query_49': ['corpus_49'], 'query_50': ['corpus_50'], 'query_51': ['corpus_51'], 'query_52': ['corpus_52'], 'query_53': ['corpus_53'], 'query_54': ['corpus_54'], 'query_55': ['corpus_55'], 'query_56': ['corpus_56'], 'query_57': ['corpus_57'], 'query_58': ['corpus_58'], 'query_59': ['corpus_59'], 'query_60': ['corpus_60'], 'query_61': ['corpus_61'], 'query_62': ['corpus_62'], 'query_63': ['corpus_63'], 'query_64': ['corpus_64'], 'query_65': ['corpus_65'], 'query_66': ['corpus_66'], 'query_67': ['corpus_67'], 'query_68': ['corpus_68'], 'query_69': ['corpus_69'], 'query_70': ['corpus_70'], 'query_71': ['corpus_71'], 'query_72': ['corpus_72'], 'query_73': ['corpus_73'], 'query_74': ['corpus_74'], 'query_75': ['corpus_75'], 'query_76': ['corpus_76'], 'query_77': ['corpus_77'], 'query_78': ['corpus_78'], 'query_79': ['corpus_79'], 'query_80': ['corpus_80'], 'query_81': ['corpus_81'], 'query_82': ['corpus_82'], 'query_83': ['corpus_83'], 'query_84': ['corpus_84'], 'query_85': ['corpus_85'], 'query_86': ['corpus_86'], 'query_87': ['corpus_87'], 'query_88': ['corpus_88'], 'query_89': ['corpus_89'], 'query_90': ['corpus_90'], 'query_91': ['corpus_91'], 'query_92': ['corpus_92'], 'query_93': ['corpus_93'], 'query_94': ['corpus_94'], 'query_95': ['corpus_95'], 'query_96': ['corpus_96'], 'query_97': ['corpus_97'], 'query_98': ['corpus_98'], 'query_99': ['corpus_99'], 'query_100': ['corpus_100'], 'query_101': ['corpus_101'], 'query_102': ['corpus_102'], 'query_103': ['corpus_103'], 'query_104': ['corpus_104'], 'query_105': ['corpus_105'], 'query_106': ['corpus_106'], 'query_107': ['corpus_107'], 'query_108': ['corpus_108'], 'query_109': ['corpus_109'], 'query_110': ['corpus_110'], 'query_111': ['corpus_111'], 'query_112': ['corpus_112'], 'query_113': ['corpus_113'], 'query_114': ['corpus_114'], 'query_115': ['corpus_115'], 'query_116': ['corpus_116'], 'query_117': ['corpus_117'], 'query_118': ['corpus_118'], 'query_119': ['corpus_119'], 'query_120': ['corpus_120'], 'query_121': ['corpus_121'], 'query_122': ['corpus_122'], 'query_123': ['corpus_123'], 'query_124': ['corpus_124'], 'query_125': ['corpus_125'], 'query_126': ['corpus_126'], 'query_127': ['corpus_127'], 'query_128': ['corpus_128'], 'query_129': ['corpus_129'], 'query_130': ['corpus_130'], 'query_131': ['corpus_131'], 'query_132': ['corpus_132'], 'query_133': ['corpus_133'], 'query_134': ['corpus_134'], 'query_135': ['corpus_135'], 'query_136': ['corpus_136'], 'query_137': ['corpus_137'], 'query_138': ['corpus_138'], 'query_139': ['corpus_139'], 'query_140': ['corpus_140'], 'query_141': ['corpus_141'], 'query_142': ['corpus_142'], 'query_143': ['corpus_143'], 'query_144': ['corpus_144'], 'query_145': ['corpus_145'], 'query_146': ['corpus_146'], 'query_147': ['corpus_147'], 'query_148': ['corpus_148'], 'query_149': ['corpus_149'], 'query_150': ['corpus_150'], 'query_151': ['corpus_151'], 'query_152': ['corpus_152'], 'query_153': ['corpus_153'], 'query_154': ['corpus_154'], 'query_155': ['corpus_155'], 'query_156': ['corpus_156'], 'query_157': ['corpus_157'], 'query_158': ['corpus_158'], 'query_159': ['corpus_159'], 'query_160': ['corpus_160'], 'query_161': ['corpus_161'], 'query_162': ['corpus_162'], 'query_163': ['corpus_163'], 'query_164': ['corpus_164'], 'query_165': ['corpus_165']}, mode='text')"
      ]
     },
     "execution_count": 72,
     "metadata": {},
     "output_type": "execute_result"
    }
   ],
   "source": [
    "qa_dataset"
   ]
  },
  {
   "cell_type": "code",
   "execution_count": 82,
   "metadata": {},
   "outputs": [],
   "source": [
    "import os \n",
    "from dotenv import load_dotenv\n",
    "load_dotenv()\n",
    "\n",
    "COHERE_API_KEY = os.environ.get('COHERE_API_KEY')\n",
    "\n",
    "# Define all embeddings and rerankers\n",
    "EMBEDDINGS = {\n",
    "    \"all-MiniLM\": LangchainEmbedding(HuggingFaceEmbeddings(model_name=\"BAAI/bge-small-en-v1.5\")), # You can use mean pooling by addin pooling='mean' parameter\n",
    "}\n",
    "\n",
    "RERANKERS = {\n",
    "    \"WithoutReranker\": \"None\",\n",
    "    \"cohere-rerank\": CohereRerank(api_key=COHERE_API_KEY, top_n=5),\n",
    "}\n"
   ]
  },
  {
   "cell_type": "code",
   "execution_count": 81,
   "metadata": {},
   "outputs": [
    {
     "name": "stdout",
     "output_type": "stream",
     "text": [
      "LLM is explicitly disabled. Using MockLLM.\n"
     ]
    },
    {
     "name": "stderr",
     "output_type": "stream",
     "text": [
      "c:\\Users\\NailFerroukhi\\miniconda3\\envs\\sid\\lib\\site-packages\\huggingface_hub\\file_download.py:159: UserWarning: `huggingface_hub` cache-system uses symlinks by default to efficiently store duplicated files but your machine does not support them in C:\\Users\\NailFerroukhi\\.cache\\huggingface\\hub\\models--BAAI--bge-small-en-v1.5. Caching files will still work but in a degraded version that might require more space on your disk. This warning can be disabled by setting the `HF_HUB_DISABLE_SYMLINKS_WARNING` environment variable. For more details, see https://huggingface.co/docs/huggingface_hub/how-to-cache#limitations.\n",
      "To support symlinks on Windows, you either need to activate Developer Mode or to run Python as an administrator. In order to see activate developer mode, see this article: https://docs.microsoft.com/en-us/windows/apps/get-started/enable-your-device-for-development\n",
      "  warnings.warn(message)\n"
     ]
    }
   ],
   "source": [
    "from llama_index.core import Settings\n",
    "\n",
    "Settings.llm = None\n",
    "Settings.embed_model = LangchainEmbedding(HuggingFaceEmbeddings(model_name=\"BAAI/bge-small-en-v1.5\"))"
   ]
  },
  {
   "cell_type": "code",
   "execution_count": 159,
   "metadata": {},
   "outputs": [],
   "source": [
    "from llama_index.core import SimpleKeywordTableIndex, VectorStoreIndex\n",
    "\n",
    "vector_index = VectorStoreIndex(nodes)"
   ]
  },
  {
   "cell_type": "code",
   "execution_count": 160,
   "metadata": {},
   "outputs": [],
   "source": [
    "\n",
    "# define custom retriever\n",
    "vector_retriever = VectorIndexRetriever(index=vector_index, similarity_top_k=5)"
   ]
  },
  {
   "cell_type": "code",
   "execution_count": 161,
   "metadata": {},
   "outputs": [],
   "source": [
    "from llama_index.retrievers.bm25 import BM25Retriever\n",
    "\n",
    "# vector_retriever = index.as_retriever(similarity_top_k=5)\n",
    "\n",
    "bm25_retriever = BM25Retriever.from_defaults(\n",
    "    docstore=vector_index.docstore, similarity_top_k=5\n",
    ")"
   ]
  },
  {
   "cell_type": "code",
   "execution_count": 169,
   "metadata": {},
   "outputs": [],
   "source": [
    "from llama_index.core.retrievers import QueryFusionRetriever\n",
    "\n",
    "hybrid_retriever = QueryFusionRetriever(\n",
    "    [vector_retriever, bm25_retriever],\n",
    "    similarity_top_k=5,\n",
    "    num_queries=1, \n",
    "    mode='reciprocal_rerank',\n",
    "    use_async=True,\n",
    "    verbose=True,\n",
    "    # query_gen_prompt=\"...\",  # we could override the query generation prompt here\n",
    ")"
   ]
  },
  {
   "cell_type": "code",
   "execution_count": 154,
   "metadata": {},
   "outputs": [],
   "source": [
    "class HybridRetriever(BaseRetriever):\n",
    "    \"\"\"Custom retriever that performs both semantic search and hybrid search.\"\"\"\n",
    "\n",
    "    def __init__(\n",
    "        self,\n",
    "        vector_retriever: VectorIndexRetriever,\n",
    "        keyword_retriever: KeywordTableSimpleRetriever,\n",
    "        mode: str = \"AND\",\n",
    "    ) -> None:\n",
    "        \"\"\"Init params.\"\"\"\n",
    "\n",
    "        self._vector_retriever = vector_retriever\n",
    "        self._keyword_retriever = keyword_retriever\n",
    "        if mode not in (\"AND\", \"OR\"):\n",
    "            raise ValueError(\"Invalid mode.\")\n",
    "        self._mode = mode\n",
    "        super().__init__()\n",
    "\n",
    "    def _retrieve(self, query_bundle: QueryBundle) -> List[NodeWithScore]:\n",
    "        \"\"\"Retrieve nodes given query.\"\"\"\n",
    "\n",
    "        vector_nodes = self._vector_retriever.retrieve(query_bundle)\n",
    "        keyword_nodes = self._keyword_retriever.retrieve(query_bundle)\n",
    "\n",
    "        vector_ids = {n.node.node_id for n in vector_nodes}\n",
    "        keyword_ids = {n.node.node_id for n in keyword_nodes}\n",
    "\n",
    "        combined_dict = {n.node.node_id: n for n in vector_nodes}\n",
    "        combined_dict.update({n.node.node_id: n for n in keyword_nodes})\n",
    "\n",
    "        if self._mode == \"AND\":\n",
    "            retrieve_ids = vector_ids.intersection(keyword_ids)\n",
    "        else:\n",
    "            retrieve_ids = vector_ids.union(keyword_ids)\n",
    "\n",
    "        retrieve_nodes = [combined_dict[rid] for rid in retrieve_ids]\n",
    "        return retrieve_nodes"
   ]
  },
  {
   "cell_type": "code",
   "execution_count": 170,
   "metadata": {},
   "outputs": [],
   "source": [
    "# Define Retriever\n",
    "class CustomRetriever(QueryFusionRetriever):\n",
    "    \"\"\"Custom retriever that performs both Vector search and Reranking\"\"\"\n",
    "\n",
    "    def __init__(\n",
    "        self,\n",
    "        vector_retriever: VectorIndexRetriever,\n",
    "    ) -> None:\n",
    "        \"\"\"Init params.\"\"\"\n",
    "\n",
    "        self._vector_retriever = vector_retriever\n",
    "\n",
    "    def _retrieve(self, query_bundle: QueryBundle) -> List[NodeWithScore]:\n",
    "        \"\"\"Retrieve nodes given query.\"\"\"\n",
    "\n",
    "        retrieved_nodes = self._vector_retriever.retrieve(query_bundle)\n",
    "\n",
    "        if reranker != 'None':\n",
    "            retrieved_nodes = reranker.postprocess_nodes(retrieved_nodes, query_bundle)\n",
    "        else:\n",
    "            retrieved_nodes = retrieved_nodes[:5]\n",
    "\n",
    "        return retrieved_nodes\n",
    "\n",
    "    async def _aretrieve(self, query_bundle: QueryBundle) -> List[NodeWithScore]:\n",
    "        \"\"\"Asynchronously retrieve nodes given query.\n",
    "\n",
    "        Implemented by the user.\n",
    "\n",
    "        \"\"\"\n",
    "        return self._retrieve(query_bundle)\n",
    "\n",
    "    async def aretrieve(self, str_or_query_bundle: QueryType) -> List[NodeWithScore]:\n",
    "        if isinstance(str_or_query_bundle, str):\n",
    "            str_or_query_bundle = QueryBundle(str_or_query_bundle)\n",
    "        return await self._aretrieve(str_or_query_bundle)\n",
    "\n",
    "# custom_retriever = CustomRetriever(vector_retriever)\n",
    "hybrid_custom_retriever = CustomRetriever(hybrid_retriever)\n"
   ]
  },
  {
   "cell_type": "code",
   "execution_count": 85,
   "metadata": {},
   "outputs": [],
   "source": [
    "reranker = RERANKERS[\"cohere-rerank\"] \n",
    "retriever_evaluator = RetrieverEvaluator.from_metric_names(\n",
    "    [\"mrr\", \"hit_rate\"], retriever=custom_retriever\n",
    ")\n",
    "eval_results = await retriever_evaluator.aevaluate_dataset(qa_dataset)\n",
    "\n"
   ]
  },
  {
   "cell_type": "code",
   "execution_count": 86,
   "metadata": {},
   "outputs": [],
   "source": [
    "reranker = RERANKERS[\"WithoutReranker\"]\n",
    "retriever_evaluator = RetrieverEvaluator.from_metric_names(\n",
    "    [\"mrr\", \"hit_rate\"], retriever=custom_retriever\n",
    ")\n",
    "eval_results2 = await retriever_evaluator.aevaluate_dataset(qa_dataset)"
   ]
  },
  {
   "cell_type": "code",
   "execution_count": 164,
   "metadata": {},
   "outputs": [],
   "source": [
    "retriever_evaluator = RetrieverEvaluator.from_metric_names(\n",
    "    [\"mrr\", \"hit_rate\"], retriever=vector_retriever\n",
    ")\n",
    "vector_results = await retriever_evaluator.aevaluate_dataset(qa_dataset)"
   ]
  },
  {
   "cell_type": "code",
   "execution_count": 165,
   "metadata": {},
   "outputs": [],
   "source": [
    "retriever_evaluator = RetrieverEvaluator.from_metric_names(\n",
    "    [\"mrr\", \"hit_rate\"], retriever=bm25_retriever\n",
    ")\n",
    "bm25_results = await retriever_evaluator.aevaluate_dataset(qa_dataset)"
   ]
  },
  {
   "cell_type": "code",
   "execution_count": 171,
   "metadata": {},
   "outputs": [],
   "source": [
    "retriever_evaluator = RetrieverEvaluator.from_metric_names(\n",
    "    [\"mrr\", \"hit_rate\"], retriever=hybrid_retriever\n",
    ")\n",
    "hybrid_results = await retriever_evaluator.aevaluate_dataset(qa_dataset)"
   ]
  },
  {
   "cell_type": "code",
   "execution_count": 172,
   "metadata": {},
   "outputs": [],
   "source": [
    "retriever_evaluator = RetrieverEvaluator.from_metric_names(\n",
    "    [\"mrr\", \"hit_rate\"], retriever=hybrid_custom_retriever\n",
    ")\n",
    "hybrid_custom_results = await retriever_evaluator.aevaluate_dataset(qa_dataset)"
   ]
  },
  {
   "cell_type": "code",
   "execution_count": 117,
   "metadata": {},
   "outputs": [],
   "source": [
    "import pandas as pd\n",
    "\n",
    "def display_results(*eval_sets):\n",
    "    \"\"\"Display results from evaluate for multiple sets of evaluation results.\n",
    "    \n",
    "    Args:\n",
    "        *eval_sets: A list of tuples, where each tuple contains the name of the evaluation set \n",
    "                    and the evaluation results, e.g., (\"name1\", eval_results1).\n",
    "    \n",
    "    Returns:\n",
    "        A pandas DataFrame containing the hit rate and MRR for each evaluation set.\n",
    "    \"\"\"\n",
    "    \n",
    "    def calculate_metrics(name, eval_results):\n",
    "        metric_dicts = []\n",
    "        for eval_result in eval_results:\n",
    "            metric_dict = eval_result.metric_vals_dict\n",
    "            metric_dicts.append(metric_dict)\n",
    "\n",
    "        full_df = pd.DataFrame(metric_dicts)\n",
    "\n",
    "        hit_rate = full_df[\"hit_rate\"].mean()\n",
    "        mrr = full_df[\"mrr\"].mean()\n",
    "        return {\"Search\": name, \"Hit Rate\": hit_rate, \"MRR\": mrr}\n",
    "\n",
    "    # Calculate metrics for each set of results provided\n",
    "    metric_data = []\n",
    "    for name, eval_results in eval_sets:\n",
    "        metric_data.append(calculate_metrics(name, eval_results))\n",
    "\n",
    "    # Create the DataFrame to display all sets of metrics\n",
    "    metric_df = pd.DataFrame(metric_data)\n",
    "\n",
    "    return metric_df\n",
    "\n"
   ]
  },
  {
   "cell_type": "code",
   "execution_count": 114,
   "metadata": {},
   "outputs": [
    {
     "data": {
      "text/html": [
       "<div>\n",
       "<style scoped>\n",
       "    .dataframe tbody tr th:only-of-type {\n",
       "        vertical-align: middle;\n",
       "    }\n",
       "\n",
       "    .dataframe tbody tr th {\n",
       "        vertical-align: top;\n",
       "    }\n",
       "\n",
       "    .dataframe thead th {\n",
       "        text-align: right;\n",
       "    }\n",
       "</style>\n",
       "<table border=\"1\" class=\"dataframe\">\n",
       "  <thead>\n",
       "    <tr style=\"text-align: right;\">\n",
       "      <th></th>\n",
       "      <th>Reranker</th>\n",
       "      <th>Hit Rate</th>\n",
       "      <th>MRR</th>\n",
       "    </tr>\n",
       "  </thead>\n",
       "  <tbody>\n",
       "    <tr>\n",
       "      <th>0</th>\n",
       "      <td>Without Reranker</td>\n",
       "      <td>0.855422</td>\n",
       "      <td>0.758936</td>\n",
       "    </tr>\n",
       "    <tr>\n",
       "      <th>1</th>\n",
       "      <td>Cohere Reranker</td>\n",
       "      <td>0.855422</td>\n",
       "      <td>0.838353</td>\n",
       "    </tr>\n",
       "  </tbody>\n",
       "</table>\n",
       "</div>"
      ],
      "text/plain": [
       "           Reranker  Hit Rate       MRR\n",
       "0  Without Reranker  0.855422  0.758936\n",
       "1   Cohere Reranker  0.855422  0.838353"
      ]
     },
     "execution_count": 114,
     "metadata": {},
     "output_type": "execute_result"
    }
   ],
   "source": [
    "display_results((\"Without Reranker\", eval_results2), (\"Cohere Reranker\", eval_results))"
   ]
  },
  {
   "cell_type": "code",
   "execution_count": 173,
   "metadata": {},
   "outputs": [
    {
     "data": {
      "text/html": [
       "<div>\n",
       "<style scoped>\n",
       "    .dataframe tbody tr th:only-of-type {\n",
       "        vertical-align: middle;\n",
       "    }\n",
       "\n",
       "    .dataframe tbody tr th {\n",
       "        vertical-align: top;\n",
       "    }\n",
       "\n",
       "    .dataframe thead th {\n",
       "        text-align: right;\n",
       "    }\n",
       "</style>\n",
       "<table border=\"1\" class=\"dataframe\">\n",
       "  <thead>\n",
       "    <tr style=\"text-align: right;\">\n",
       "      <th></th>\n",
       "      <th>Search</th>\n",
       "      <th>Hit Rate</th>\n",
       "      <th>MRR</th>\n",
       "    </tr>\n",
       "  </thead>\n",
       "  <tbody>\n",
       "    <tr>\n",
       "      <th>0</th>\n",
       "      <td>BM25</td>\n",
       "      <td>0.674699</td>\n",
       "      <td>0.575703</td>\n",
       "    </tr>\n",
       "    <tr>\n",
       "      <th>1</th>\n",
       "      <td>Vector Search</td>\n",
       "      <td>0.855422</td>\n",
       "      <td>0.758936</td>\n",
       "    </tr>\n",
       "    <tr>\n",
       "      <th>2</th>\n",
       "      <td>Hybrid Search</td>\n",
       "      <td>0.891566</td>\n",
       "      <td>0.785743</td>\n",
       "    </tr>\n",
       "    <tr>\n",
       "      <th>3</th>\n",
       "      <td>Hybrid Search Cohere</td>\n",
       "      <td>0.891566</td>\n",
       "      <td>0.879518</td>\n",
       "    </tr>\n",
       "  </tbody>\n",
       "</table>\n",
       "</div>"
      ],
      "text/plain": [
       "                 Search  Hit Rate       MRR\n",
       "0                  BM25  0.674699  0.575703\n",
       "1         Vector Search  0.855422  0.758936\n",
       "2         Hybrid Search  0.891566  0.785743\n",
       "3  Hybrid Search Cohere  0.891566  0.879518"
      ]
     },
     "execution_count": 173,
     "metadata": {},
     "output_type": "execute_result"
    }
   ],
   "source": [
    "display_results((\"BM25\", bm25_results), ('Vector Search', vector_results), ('Hybrid Search', hybrid_results), ('Hybrid Search Cohere', hybrid_custom_results))\n"
   ]
  },
  {
   "cell_type": "code",
   "execution_count": 91,
   "metadata": {},
   "outputs": [
    {
     "data": {
      "text/html": [
       "<div>\n",
       "<style scoped>\n",
       "    .dataframe tbody tr th:only-of-type {\n",
       "        vertical-align: middle;\n",
       "    }\n",
       "\n",
       "    .dataframe tbody tr th {\n",
       "        vertical-align: top;\n",
       "    }\n",
       "\n",
       "    .dataframe thead th {\n",
       "        text-align: right;\n",
       "    }\n",
       "</style>\n",
       "<table border=\"1\" class=\"dataframe\">\n",
       "  <thead>\n",
       "    <tr style=\"text-align: right;\">\n",
       "      <th></th>\n",
       "      <th>model</th>\n",
       "      <th>hit rate</th>\n",
       "      <th>MRR</th>\n",
       "    </tr>\n",
       "  </thead>\n",
       "  <tbody>\n",
       "    <tr>\n",
       "      <th>0</th>\n",
       "      <td>bge-small-en-1.5</td>\n",
       "      <td>0.855422</td>\n",
       "      <td>0.758936</td>\n",
       "    </tr>\n",
       "    <tr>\n",
       "      <th>1</th>\n",
       "      <td>all-MiniLM-L6-v2</td>\n",
       "      <td>0.771084</td>\n",
       "      <td>0.640462</td>\n",
       "    </tr>\n",
       "  </tbody>\n",
       "</table>\n",
       "</div>"
      ],
      "text/plain": [
       "              model  hit rate       MRR\n",
       "0  bge-small-en-1.5  0.855422  0.758936\n",
       "1  all-MiniLM-L6-v2  0.771084  0.640462"
      ]
     },
     "execution_count": 91,
     "metadata": {},
     "output_type": "execute_result"
    }
   ],
   "source": [
    "import pandas as pd\n",
    "\n",
    "# Creating the data for the DataFrame\n",
    "data = {\n",
    "    \"model\": [\"bge-small-en-1.5\", \"all-MiniLM-L6-v2\"],\n",
    "    \"hit rate\": [0.855422, 0.771084],\n",
    "    \"MRR\": [0.758936, 0.640462]\n",
    "}\n",
    "\n",
    "# Creating the DataFrame\n",
    "df = pd.DataFrame(data)\n",
    "df"
   ]
  },
  {
   "cell_type": "code",
   "execution_count": null,
   "metadata": {},
   "outputs": [],
   "source": []
  }
 ],
 "metadata": {
  "kernelspec": {
   "display_name": "sid",
   "language": "python",
   "name": "python3"
  },
  "language_info": {
   "codemirror_mode": {
    "name": "ipython",
    "version": 3
   },
   "file_extension": ".py",
   "mimetype": "text/x-python",
   "name": "python",
   "nbconvert_exporter": "python",
   "pygments_lexer": "ipython3",
   "version": "3.10.14"
  }
 },
 "nbformat": 4,
 "nbformat_minor": 2
}
