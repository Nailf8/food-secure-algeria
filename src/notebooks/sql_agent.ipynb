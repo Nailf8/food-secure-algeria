{
 "cells": [
  {
   "cell_type": "code",
   "execution_count": null,
   "metadata": {},
   "outputs": [],
   "source": [
    "from dotenv import load_dotenv\n",
    "from langchain_community.utilities.sql_database import SQLDatabase\n",
    "from langchain_openai import ChatOpenAI\n",
    "from langchain_community.agent_toolkits import create_sql_agent\n",
    "\n",
    "load_dotenv()\n",
    "\n",
    "db = SQLDatabase.from_uri(\"sqlite:///demo.db\")\n",
    "\n",
    "llm = ChatOpenAI(model=\"gpt-3.5-turbo\", temperature=0)\n",
    "\n",
    "agent_executor = create_sql_agent(\n",
    "    llm, db = db, agent_type = \"openai-tools\", verbose = True\n",
    ")"
   ]
  },
  {
   "cell_type": "code",
   "execution_count": null,
   "metadata": {},
   "outputs": [],
   "source": [
    "from langchain.callbacks.base import BaseCallbackHandler\n",
    "\n",
    "class SQLHandler(BaseCallbackHandler):\n",
    "    def __init__(self):\n",
    "        self.sql_result = None\n",
    "\n",
    "    def on_agent_action(self, action, **kwargs):\n",
    "        \"\"\"Run on agent action. if the tool being used is sql_db_query,\n",
    "         it means we're submitting the sql and we can \n",
    "         record it as the final sql\"\"\"\n",
    "\n",
    "        if action.tool == \"sql_db_query\":\n",
    "            self.sql_result = action.tool_input"
   ]
  },
  {
   "cell_type": "code",
   "execution_count": null,
   "metadata": {},
   "outputs": [],
   "source": [
    "query = \"De combien le pourcentage de terres arables aménagées pour l’irrigation a évolué en 2019?\"\n",
    "handler = SQLHandler()"
   ]
  },
  {
   "cell_type": "code",
   "execution_count": null,
   "metadata": {},
   "outputs": [],
   "source": [
    "result = agent_executor.invoke({\"input\": query},\n",
    "                        {\"callbacks\": [handler]}\n",
    "            )\n",
    "print(\">>Handler SQL Result: \", handler.sql_result)"
   ]
  },
  {
   "cell_type": "code",
   "execution_count": null,
   "metadata": {},
   "outputs": [],
   "source": []
  }
 ],
 "metadata": {
  "kernelspec": {
   "display_name": "sid",
   "language": "python",
   "name": "python3"
  },
  "language_info": {
   "codemirror_mode": {
    "name": "ipython",
    "version": 3
   },
   "file_extension": ".py",
   "mimetype": "text/x-python",
   "name": "python",
   "nbconvert_exporter": "python",
   "pygments_lexer": "ipython3",
   "version": "3.10.14"
  }
 },
 "nbformat": 4,
 "nbformat_minor": 2
}
